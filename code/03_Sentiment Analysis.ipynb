{
 "cells": [
  {
   "cell_type": "code",
   "execution_count": 3,
   "id": "d0a97707-1e00-4ce0-9a6d-d7073c0681e3",
   "metadata": {},
   "outputs": [],
   "source": [
    "#!pip install vaderSentiment\n",
    "#!pip install pandarallel"
   ]
  },
  {
   "cell_type": "code",
   "execution_count": 4,
   "id": "e38b99d5-7efa-429f-ad51-689466281da5",
   "metadata": {},
   "outputs": [],
   "source": [
    "import pandas as pd\n",
    "import numpy as np\n",
    "import os\n",
    "import json\n",
    "import glob\n",
    "import datetime\n",
    "import time\n",
    "import pytz\n",
    "#Load the SentimentIntensityAnalyzer object from the VADER package\n",
    "from vaderSentiment.vaderSentiment import SentimentIntensityAnalyzer"
   ]
  },
  {
   "cell_type": "code",
   "execution_count": 5,
   "id": "6b9dcaae-42b3-4475-9ac9-b5dceb455827",
   "metadata": {},
   "outputs": [
    {
     "name": "stdout",
     "output_type": "stream",
     "text": [
      "Available CPUs: 16\n"
     ]
    }
   ],
   "source": [
    "from pandarallel import pandarallel\n",
    "import multiprocessing\n",
    "\n",
    "num_processors = multiprocessing.cpu_count()\n",
    "print(f'Available CPUs: {num_processors}')"
   ]
  },
  {
   "cell_type": "code",
   "execution_count": 6,
   "id": "e343a268-f047-48f9-8a41-0b4ae8d65e2c",
   "metadata": {},
   "outputs": [
    {
     "name": "stdout",
     "output_type": "stream",
     "text": [
      "INFO: Pandarallel will run on 15 workers.\n",
      "INFO: Pandarallel will use standard multiprocessing data transfer (pipe) to transfer data between the main process and workers.\n"
     ]
    }
   ],
   "source": [
    "pandarallel.initialize(nb_workers=num_processors-1, use_memory_fs=False, progress_bar = True)"
   ]
  },
  {
   "cell_type": "code",
   "execution_count": 6,
   "id": "877825c1-a047-42c0-a7b9-11757c9ce934",
   "metadata": {},
   "outputs": [
    {
     "name": "stdout",
     "output_type": "stream",
     "text": [
      "CPU times: user 29.2 s, sys: 4.79 s, total: 34 s\n",
      "Wall time: 24.3 s\n"
     ]
    }
   ],
   "source": [
    "%%time\n",
    "df = pd.read_parquet(\"data_topic.parquet\")"
   ]
  },
  {
   "cell_type": "code",
   "execution_count": 7,
   "id": "2ec1a64a-11b2-45bf-935d-0542cf390c6a",
   "metadata": {},
   "outputs": [
    {
     "data": {
      "text/html": [
       "<div>\n",
       "<style scoped>\n",
       "    .dataframe tbody tr th:only-of-type {\n",
       "        vertical-align: middle;\n",
       "    }\n",
       "\n",
       "    .dataframe tbody tr th {\n",
       "        vertical-align: top;\n",
       "    }\n",
       "\n",
       "    .dataframe thead th {\n",
       "        text-align: right;\n",
       "    }\n",
       "</style>\n",
       "<table border=\"1\" class=\"dataframe\">\n",
       "  <thead>\n",
       "    <tr style=\"text-align: right;\">\n",
       "      <th></th>\n",
       "      <th>url</th>\n",
       "      <th>date</th>\n",
       "      <th>title</th>\n",
       "      <th>text</th>\n",
       "      <th>main_text</th>\n",
       "      <th>relevant</th>\n",
       "      <th>Tokens</th>\n",
       "      <th>cleaned_tokens</th>\n",
       "      <th>ktrain_topic</th>\n",
       "    </tr>\n",
       "  </thead>\n",
       "  <tbody>\n",
       "    <tr>\n",
       "      <th>0</th>\n",
       "      <td>http://en.people.cn/n3/2021/0318/c90000-983012...</td>\n",
       "      <td>2021-03-18</td>\n",
       "      <td>Artificial intelligence improves parking effic...</td>\n",
       "      <td>\\n\\nArtificial intelligence improves parking e...</td>\n",
       "      <td>Photo taken on July 1, 2019, shows a sign for ...</td>\n",
       "      <td>1</td>\n",
       "      <td>[Photo, taken, on, July, 1, ,, 2019, ,, shows,...</td>\n",
       "      <td>[Photo, taken, July, show, sign, electronic, t...</td>\n",
       "      <td>5</td>\n",
       "    </tr>\n",
       "    <tr>\n",
       "      <th>1</th>\n",
       "      <td>http://newsparliament.com/2020/02/27/children-...</td>\n",
       "      <td>2020-02-27</td>\n",
       "      <td>Children With Autism Saw Their Learning and So...</td>\n",
       "      <td>\\nChildren With Autism Saw Their Learning and ...</td>\n",
       "      <td>Children With Autism Saw Their Learning and So...</td>\n",
       "      <td>1</td>\n",
       "      <td>[Children, With, Autism, Saw, Their, Learning,...</td>\n",
       "      <td>[Children, With, Autism, Saw, Their, Learning,...</td>\n",
       "      <td>5</td>\n",
       "    </tr>\n",
       "    <tr>\n",
       "      <th>2</th>\n",
       "      <td>http://www.dataweek.co.za/12835r</td>\n",
       "      <td>2021-03-26</td>\n",
       "      <td>Forget ML, AI and Industry 4.0 – obsolescence ...</td>\n",
       "      <td>\\n\\nForget ML, AI and Industry 4.0 – obsolesce...</td>\n",
       "      <td>Forget ML, AI and Industry 4.0 – obsolescence ...</td>\n",
       "      <td>1</td>\n",
       "      <td>[Forget, ML, ,, AI, and, Industry, 4.0, –, obs...</td>\n",
       "      <td>[Forget, ML, AI, Industry, obsolescence, focus...</td>\n",
       "      <td>5</td>\n",
       "    </tr>\n",
       "    <tr>\n",
       "      <th>3</th>\n",
       "      <td>http://www.homeoffice.consumerelectronicsnet.c...</td>\n",
       "      <td>2021-03-10</td>\n",
       "      <td>Strategy Analytics: 71% of Smartphones Sold Gl...</td>\n",
       "      <td>\\n\\nStrategy Analytics: 71% of Smartphones Sol...</td>\n",
       "      <td>Strategy Analytics: 71% of Smartphones Sold Gl...</td>\n",
       "      <td>1</td>\n",
       "      <td>[Strategy, Analytics, :, 71, %, of, Smartphone...</td>\n",
       "      <td>[Strategy, Analytics, Smartphones, Sold, Globa...</td>\n",
       "      <td>0</td>\n",
       "    </tr>\n",
       "    <tr>\n",
       "      <th>4</th>\n",
       "      <td>http://www.itbusinessnet.com/2020/10/olympus-t...</td>\n",
       "      <td>2020-10-20</td>\n",
       "      <td>Olympus to Support Endoscopic AI Diagnosis Edu...</td>\n",
       "      <td>\\n\\nOlympus to Support Endoscopic AI Diagnosis...</td>\n",
       "      <td>Olympus to Support Endoscopic AI Diagnosis Edu...</td>\n",
       "      <td>1</td>\n",
       "      <td>[Olympus, to, Support, Endoscopic, AI, Diagnos...</td>\n",
       "      <td>[Olympus, Support, Endoscopic, AI, Diagnosis, ...</td>\n",
       "      <td>7</td>\n",
       "    </tr>\n",
       "  </tbody>\n",
       "</table>\n",
       "</div>"
      ],
      "text/plain": [
       "                                                 url        date  \\\n",
       "0  http://en.people.cn/n3/2021/0318/c90000-983012...  2021-03-18   \n",
       "1  http://newsparliament.com/2020/02/27/children-...  2020-02-27   \n",
       "2                   http://www.dataweek.co.za/12835r  2021-03-26   \n",
       "3  http://www.homeoffice.consumerelectronicsnet.c...  2021-03-10   \n",
       "4  http://www.itbusinessnet.com/2020/10/olympus-t...  2020-10-20   \n",
       "\n",
       "                                               title  \\\n",
       "0  Artificial intelligence improves parking effic...   \n",
       "1  Children With Autism Saw Their Learning and So...   \n",
       "2  Forget ML, AI and Industry 4.0 – obsolescence ...   \n",
       "3  Strategy Analytics: 71% of Smartphones Sold Gl...   \n",
       "4  Olympus to Support Endoscopic AI Diagnosis Edu...   \n",
       "\n",
       "                                                text  \\\n",
       "0  \\n\\nArtificial intelligence improves parking e...   \n",
       "1  \\nChildren With Autism Saw Their Learning and ...   \n",
       "2  \\n\\nForget ML, AI and Industry 4.0 – obsolesce...   \n",
       "3  \\n\\nStrategy Analytics: 71% of Smartphones Sol...   \n",
       "4  \\n\\nOlympus to Support Endoscopic AI Diagnosis...   \n",
       "\n",
       "                                           main_text  relevant  \\\n",
       "0  Photo taken on July 1, 2019, shows a sign for ...         1   \n",
       "1  Children With Autism Saw Their Learning and So...         1   \n",
       "2  Forget ML, AI and Industry 4.0 – obsolescence ...         1   \n",
       "3  Strategy Analytics: 71% of Smartphones Sold Gl...         1   \n",
       "4  Olympus to Support Endoscopic AI Diagnosis Edu...         1   \n",
       "\n",
       "                                              Tokens  \\\n",
       "0  [Photo, taken, on, July, 1, ,, 2019, ,, shows,...   \n",
       "1  [Children, With, Autism, Saw, Their, Learning,...   \n",
       "2  [Forget, ML, ,, AI, and, Industry, 4.0, –, obs...   \n",
       "3  [Strategy, Analytics, :, 71, %, of, Smartphone...   \n",
       "4  [Olympus, to, Support, Endoscopic, AI, Diagnos...   \n",
       "\n",
       "                                      cleaned_tokens ktrain_topic  \n",
       "0  [Photo, taken, July, show, sign, electronic, t...            5  \n",
       "1  [Children, With, Autism, Saw, Their, Learning,...            5  \n",
       "2  [Forget, ML, AI, Industry, obsolescence, focus...            5  \n",
       "3  [Strategy, Analytics, Smartphones, Sold, Globa...            0  \n",
       "4  [Olympus, Support, Endoscopic, AI, Diagnosis, ...            7  "
      ]
     },
     "execution_count": 7,
     "metadata": {},
     "output_type": "execute_result"
    }
   ],
   "source": [
    "df.head()"
   ]
  },
  {
   "cell_type": "code",
   "execution_count": 8,
   "id": "089d20c3-06a7-4550-ab0e-4ed57f77883e",
   "metadata": {},
   "outputs": [
    {
     "data": {
      "text/plain": [
       "(127739, 9)"
      ]
     },
     "execution_count": 8,
     "metadata": {},
     "output_type": "execute_result"
    }
   ],
   "source": [
    "df.shape"
   ]
  },
  {
   "cell_type": "markdown",
   "id": "804a27c7-3a68-43c7-a94e-0a05a19ae9d5",
   "metadata": {
    "tags": []
   },
   "source": [
    "## VADER"
   ]
  },
  {
   "cell_type": "code",
   "execution_count": 9,
   "id": "6952665d-51d4-44f3-9f39-ceb98215f78f",
   "metadata": {},
   "outputs": [],
   "source": [
    "#Create a handle to the SentimentIntensityAnalyzer object\n",
    "analyzer = SentimentIntensityAnalyzer()"
   ]
  },
  {
   "cell_type": "code",
   "execution_count": 10,
   "id": "411f87ae-b363-4fee-a3e9-57e89ffdba41",
   "metadata": {},
   "outputs": [],
   "source": [
    "def vader_score(text):\n",
    "    score = analyzer.polarity_scores(text)\n",
    "    return score['compound']"
   ]
  },
  {
   "cell_type": "code",
   "execution_count": 11,
   "id": "82d543f4-2018-4876-9433-82a80621353f",
   "metadata": {},
   "outputs": [
    {
     "data": {
      "application/vnd.jupyter.widget-view+json": {
       "model_id": "c537449ef7e04f36b78ab344599f4158",
       "version_major": 2,
       "version_minor": 0
      },
      "text/plain": [
       "VBox(children=(HBox(children=(IntProgress(value=0, description='0.00%', max=8516), Label(value='0 / 8516'))), …"
      ]
     },
     "metadata": {},
     "output_type": "display_data"
    },
    {
     "name": "stdout",
     "output_type": "stream",
     "text": [
      "CPU times: user 6.27 s, sys: 3.5 s, total: 9.77 s\n",
      "Wall time: 13min 20s\n"
     ]
    }
   ],
   "source": [
    "%%time\n",
    "df['vader_score'] = df['main_text'].parallel_apply(vader_score)"
   ]
  },
  {
   "cell_type": "code",
   "execution_count": 12,
   "id": "b1e8ff8d-7e73-4f27-9058-3f1501baf221",
   "metadata": {},
   "outputs": [
    {
     "name": "stderr",
     "output_type": "stream",
     "text": [
      "/opt/conda/lib/python3.7/site-packages/ipykernel_launcher.py:1: DeprecationWarning: `np.float` is a deprecated alias for the builtin `float`. To silence this warning, use `float` by itself. Doing this will not modify any behavior and is safe. If you specifically wanted the numpy scalar type, use `np.float64` here.\n",
      "Deprecated in NumPy 1.20; for more details and guidance: https://numpy.org/devdocs/release/1.20.0-notes.html#deprecations\n",
      "  \"\"\"Entry point for launching an IPython kernel.\n",
      "/opt/conda/lib/python3.7/site-packages/ipykernel_launcher.py:2: DeprecationWarning: `np.float` is a deprecated alias for the builtin `float`. To silence this warning, use `float` by itself. Doing this will not modify any behavior and is safe. If you specifically wanted the numpy scalar type, use `np.float64` here.\n",
      "Deprecated in NumPy 1.20; for more details and guidance: https://numpy.org/devdocs/release/1.20.0-notes.html#deprecations\n",
      "  \n"
     ]
    }
   ],
   "source": [
    "df['vader_sentiment'] = np.where(df['vader_score'].astype(np.float) > 0, 'Positive', 'Negative')\n",
    "df['vader_sentiment'] = np.where(df['vader_score'].astype(np.float) == 0, 'Neutral', df['vader_sentiment'])"
   ]
  },
  {
   "cell_type": "code",
   "execution_count": 13,
   "id": "17f8bc0c-02b5-4001-aee9-59800b3eeadf",
   "metadata": {},
   "outputs": [
    {
     "data": {
      "text/html": [
       "<div>\n",
       "<style scoped>\n",
       "    .dataframe tbody tr th:only-of-type {\n",
       "        vertical-align: middle;\n",
       "    }\n",
       "\n",
       "    .dataframe tbody tr th {\n",
       "        vertical-align: top;\n",
       "    }\n",
       "\n",
       "    .dataframe thead th {\n",
       "        text-align: right;\n",
       "    }\n",
       "</style>\n",
       "<table border=\"1\" class=\"dataframe\">\n",
       "  <thead>\n",
       "    <tr style=\"text-align: right;\">\n",
       "      <th></th>\n",
       "      <th>url</th>\n",
       "      <th>date</th>\n",
       "      <th>title</th>\n",
       "      <th>text</th>\n",
       "      <th>main_text</th>\n",
       "      <th>relevant</th>\n",
       "      <th>Tokens</th>\n",
       "      <th>cleaned_tokens</th>\n",
       "      <th>ktrain_topic</th>\n",
       "      <th>vader_score</th>\n",
       "      <th>vader_sentiment</th>\n",
       "    </tr>\n",
       "  </thead>\n",
       "  <tbody>\n",
       "    <tr>\n",
       "      <th>0</th>\n",
       "      <td>http://en.people.cn/n3/2021/0318/c90000-983012...</td>\n",
       "      <td>2021-03-18</td>\n",
       "      <td>Artificial intelligence improves parking effic...</td>\n",
       "      <td>\\n\\nArtificial intelligence improves parking e...</td>\n",
       "      <td>Photo taken on July 1, 2019, shows a sign for ...</td>\n",
       "      <td>1</td>\n",
       "      <td>[Photo, taken, on, July, 1, ,, 2019, ,, shows,...</td>\n",
       "      <td>[Photo, taken, July, show, sign, electronic, t...</td>\n",
       "      <td>5</td>\n",
       "      <td>0.9954</td>\n",
       "      <td>Positive</td>\n",
       "    </tr>\n",
       "    <tr>\n",
       "      <th>1</th>\n",
       "      <td>http://newsparliament.com/2020/02/27/children-...</td>\n",
       "      <td>2020-02-27</td>\n",
       "      <td>Children With Autism Saw Their Learning and So...</td>\n",
       "      <td>\\nChildren With Autism Saw Their Learning and ...</td>\n",
       "      <td>Children With Autism Saw Their Learning and So...</td>\n",
       "      <td>1</td>\n",
       "      <td>[Children, With, Autism, Saw, Their, Learning,...</td>\n",
       "      <td>[Children, With, Autism, Saw, Their, Learning,...</td>\n",
       "      <td>5</td>\n",
       "      <td>0.9980</td>\n",
       "      <td>Positive</td>\n",
       "    </tr>\n",
       "    <tr>\n",
       "      <th>2</th>\n",
       "      <td>http://www.dataweek.co.za/12835r</td>\n",
       "      <td>2021-03-26</td>\n",
       "      <td>Forget ML, AI and Industry 4.0 – obsolescence ...</td>\n",
       "      <td>\\n\\nForget ML, AI and Industry 4.0 – obsolesce...</td>\n",
       "      <td>Forget ML, AI and Industry 4.0 – obsolescence ...</td>\n",
       "      <td>1</td>\n",
       "      <td>[Forget, ML, ,, AI, and, Industry, 4.0, –, obs...</td>\n",
       "      <td>[Forget, ML, AI, Industry, obsolescence, focus...</td>\n",
       "      <td>5</td>\n",
       "      <td>0.9967</td>\n",
       "      <td>Positive</td>\n",
       "    </tr>\n",
       "    <tr>\n",
       "      <th>3</th>\n",
       "      <td>http://www.homeoffice.consumerelectronicsnet.c...</td>\n",
       "      <td>2021-03-10</td>\n",
       "      <td>Strategy Analytics: 71% of Smartphones Sold Gl...</td>\n",
       "      <td>\\n\\nStrategy Analytics: 71% of Smartphones Sol...</td>\n",
       "      <td>Strategy Analytics: 71% of Smartphones Sold Gl...</td>\n",
       "      <td>1</td>\n",
       "      <td>[Strategy, Analytics, :, 71, %, of, Smartphone...</td>\n",
       "      <td>[Strategy, Analytics, Smartphones, Sold, Globa...</td>\n",
       "      <td>0</td>\n",
       "      <td>0.9988</td>\n",
       "      <td>Positive</td>\n",
       "    </tr>\n",
       "    <tr>\n",
       "      <th>4</th>\n",
       "      <td>http://www.itbusinessnet.com/2020/10/olympus-t...</td>\n",
       "      <td>2020-10-20</td>\n",
       "      <td>Olympus to Support Endoscopic AI Diagnosis Edu...</td>\n",
       "      <td>\\n\\nOlympus to Support Endoscopic AI Diagnosis...</td>\n",
       "      <td>Olympus to Support Endoscopic AI Diagnosis Edu...</td>\n",
       "      <td>1</td>\n",
       "      <td>[Olympus, to, Support, Endoscopic, AI, Diagnos...</td>\n",
       "      <td>[Olympus, Support, Endoscopic, AI, Diagnosis, ...</td>\n",
       "      <td>7</td>\n",
       "      <td>0.9923</td>\n",
       "      <td>Positive</td>\n",
       "    </tr>\n",
       "  </tbody>\n",
       "</table>\n",
       "</div>"
      ],
      "text/plain": [
       "                                                 url        date  \\\n",
       "0  http://en.people.cn/n3/2021/0318/c90000-983012...  2021-03-18   \n",
       "1  http://newsparliament.com/2020/02/27/children-...  2020-02-27   \n",
       "2                   http://www.dataweek.co.za/12835r  2021-03-26   \n",
       "3  http://www.homeoffice.consumerelectronicsnet.c...  2021-03-10   \n",
       "4  http://www.itbusinessnet.com/2020/10/olympus-t...  2020-10-20   \n",
       "\n",
       "                                               title  \\\n",
       "0  Artificial intelligence improves parking effic...   \n",
       "1  Children With Autism Saw Their Learning and So...   \n",
       "2  Forget ML, AI and Industry 4.0 – obsolescence ...   \n",
       "3  Strategy Analytics: 71% of Smartphones Sold Gl...   \n",
       "4  Olympus to Support Endoscopic AI Diagnosis Edu...   \n",
       "\n",
       "                                                text  \\\n",
       "0  \\n\\nArtificial intelligence improves parking e...   \n",
       "1  \\nChildren With Autism Saw Their Learning and ...   \n",
       "2  \\n\\nForget ML, AI and Industry 4.0 – obsolesce...   \n",
       "3  \\n\\nStrategy Analytics: 71% of Smartphones Sol...   \n",
       "4  \\n\\nOlympus to Support Endoscopic AI Diagnosis...   \n",
       "\n",
       "                                           main_text  relevant  \\\n",
       "0  Photo taken on July 1, 2019, shows a sign for ...         1   \n",
       "1  Children With Autism Saw Their Learning and So...         1   \n",
       "2  Forget ML, AI and Industry 4.0 – obsolescence ...         1   \n",
       "3  Strategy Analytics: 71% of Smartphones Sold Gl...         1   \n",
       "4  Olympus to Support Endoscopic AI Diagnosis Edu...         1   \n",
       "\n",
       "                                              Tokens  \\\n",
       "0  [Photo, taken, on, July, 1, ,, 2019, ,, shows,...   \n",
       "1  [Children, With, Autism, Saw, Their, Learning,...   \n",
       "2  [Forget, ML, ,, AI, and, Industry, 4.0, –, obs...   \n",
       "3  [Strategy, Analytics, :, 71, %, of, Smartphone...   \n",
       "4  [Olympus, to, Support, Endoscopic, AI, Diagnos...   \n",
       "\n",
       "                                      cleaned_tokens ktrain_topic  \\\n",
       "0  [Photo, taken, July, show, sign, electronic, t...            5   \n",
       "1  [Children, With, Autism, Saw, Their, Learning,...            5   \n",
       "2  [Forget, ML, AI, Industry, obsolescence, focus...            5   \n",
       "3  [Strategy, Analytics, Smartphones, Sold, Globa...            0   \n",
       "4  [Olympus, Support, Endoscopic, AI, Diagnosis, ...            7   \n",
       "\n",
       "   vader_score vader_sentiment  \n",
       "0       0.9954        Positive  \n",
       "1       0.9980        Positive  \n",
       "2       0.9967        Positive  \n",
       "3       0.9988        Positive  \n",
       "4       0.9923        Positive  "
      ]
     },
     "execution_count": 13,
     "metadata": {},
     "output_type": "execute_result"
    }
   ],
   "source": [
    "df.head()"
   ]
  },
  {
   "cell_type": "code",
   "execution_count": null,
   "id": "17c11516-11e5-4d8c-9811-6066458c2322",
   "metadata": {},
   "outputs": [],
   "source": [
    "import pyarrow as pa\n",
    "import pyarrow.parquet as pq\n",
    "table = pa.Table.from_pandas(df)\n",
    "pq.write_table(table, './data_vader_score.parquet')"
   ]
  },
  {
   "cell_type": "markdown",
   "id": "15fca1bd-ba73-49a1-b8ae-254439e847db",
   "metadata": {
    "jp-MarkdownHeadingCollapsed": true,
    "tags": []
   },
   "source": [
    "## SVM trained on Yelp data"
   ]
  },
  {
   "cell_type": "code",
   "execution_count": 15,
   "id": "c7600603-18d4-4300-b12e-a271f19da949",
   "metadata": {},
   "outputs": [],
   "source": [
    "import pickle\n",
    "import pandas as pd"
   ]
  },
  {
   "cell_type": "code",
   "execution_count": null,
   "id": "df1e3c3c-ca5b-4a43-9b7d-3a67ac1f1b4f",
   "metadata": {},
   "outputs": [
    {
     "name": "stdout",
     "output_type": "stream",
     "text": [
      "CPU times: user 35.4 s, sys: 7.37 s, total: 42.8 s\n",
      "Wall time: 44.4 s\n"
     ]
    }
   ],
   "source": [
    "%%time\n",
    "df = pd.read_parquet(\"data_vader_score.parquet\")"
   ]
  },
  {
   "cell_type": "code",
   "execution_count": null,
   "id": "b5f40085-81a8-4165-b73e-fb7aa8928ceb",
   "metadata": {},
   "outputs": [
    {
     "data": {
      "text/html": [
       "<div>\n",
       "<style scoped>\n",
       "    .dataframe tbody tr th:only-of-type {\n",
       "        vertical-align: middle;\n",
       "    }\n",
       "\n",
       "    .dataframe tbody tr th {\n",
       "        vertical-align: top;\n",
       "    }\n",
       "\n",
       "    .dataframe thead th {\n",
       "        text-align: right;\n",
       "    }\n",
       "</style>\n",
       "<table border=\"1\" class=\"dataframe\">\n",
       "  <thead>\n",
       "    <tr style=\"text-align: right;\">\n",
       "      <th></th>\n",
       "      <th>date</th>\n",
       "      <th>title</th>\n",
       "      <th>text</th>\n",
       "      <th>main_text</th>\n",
       "      <th>Tokens</th>\n",
       "      <th>cleaned_tokens</th>\n",
       "      <th>vader_score</th>\n",
       "      <th>vader_sentiment</th>\n",
       "    </tr>\n",
       "  </thead>\n",
       "  <tbody>\n",
       "    <tr>\n",
       "      <th>0</th>\n",
       "      <td>2021-03-18</td>\n",
       "      <td>Artificial intelligence improves parking effic...</td>\n",
       "      <td>\\n\\nArtificial intelligence improves parking e...</td>\n",
       "      <td>Photo taken on July 1, 2019, shows a sign for ...</td>\n",
       "      <td>[Photo, taken, on, July, 1, ,, 2019, ,, shows,...</td>\n",
       "      <td>[Photo, taken, July, show, sign, electronic, t...</td>\n",
       "      <td>0.9954</td>\n",
       "      <td>Positive</td>\n",
       "    </tr>\n",
       "    <tr>\n",
       "      <th>1</th>\n",
       "      <td>2020-02-27</td>\n",
       "      <td>Children With Autism Saw Their Learning and So...</td>\n",
       "      <td>\\nChildren With Autism Saw Their Learning and ...</td>\n",
       "      <td>Children With Autism Saw Their Learning and So...</td>\n",
       "      <td>[Children, With, Autism, Saw, Their, Learning,...</td>\n",
       "      <td>[Children, With, Autism, Saw, Their, Learning,...</td>\n",
       "      <td>0.9980</td>\n",
       "      <td>Positive</td>\n",
       "    </tr>\n",
       "    <tr>\n",
       "      <th>2</th>\n",
       "      <td>2021-03-26</td>\n",
       "      <td>Forget ML, AI and Industry 4.0 – obsolescence ...</td>\n",
       "      <td>\\n\\nForget ML, AI and Industry 4.0 – obsolesce...</td>\n",
       "      <td>Forget ML, AI and Industry 4.0 – obsolescence ...</td>\n",
       "      <td>[Forget, ML, ,, AI, and, Industry, 4.0, –, obs...</td>\n",
       "      <td>[Forget, ML, AI, Industry, obsolescence, focus...</td>\n",
       "      <td>0.9967</td>\n",
       "      <td>Positive</td>\n",
       "    </tr>\n",
       "    <tr>\n",
       "      <th>3</th>\n",
       "      <td>2021-03-10</td>\n",
       "      <td>Strategy Analytics: 71% of Smartphones Sold Gl...</td>\n",
       "      <td>\\n\\nStrategy Analytics: 71% of Smartphones Sol...</td>\n",
       "      <td>Strategy Analytics: 71% of Smartphones Sold Gl...</td>\n",
       "      <td>[Strategy, Analytics, :, 71, %, of, Smartphone...</td>\n",
       "      <td>[Strategy, Analytics, Smartphones, Sold, Globa...</td>\n",
       "      <td>0.9988</td>\n",
       "      <td>Positive</td>\n",
       "    </tr>\n",
       "    <tr>\n",
       "      <th>4</th>\n",
       "      <td>2020-10-20</td>\n",
       "      <td>Olympus to Support Endoscopic AI Diagnosis Edu...</td>\n",
       "      <td>\\n\\nOlympus to Support Endoscopic AI Diagnosis...</td>\n",
       "      <td>Olympus to Support Endoscopic AI Diagnosis Edu...</td>\n",
       "      <td>[Olympus, to, Support, Endoscopic, AI, Diagnos...</td>\n",
       "      <td>[Olympus, Support, Endoscopic, AI, Diagnosis, ...</td>\n",
       "      <td>0.9923</td>\n",
       "      <td>Positive</td>\n",
       "    </tr>\n",
       "  </tbody>\n",
       "</table>\n",
       "</div>"
      ],
      "text/plain": [
       "         date                                              title  \\\n",
       "0  2021-03-18  Artificial intelligence improves parking effic...   \n",
       "1  2020-02-27  Children With Autism Saw Their Learning and So...   \n",
       "2  2021-03-26  Forget ML, AI and Industry 4.0 – obsolescence ...   \n",
       "3  2021-03-10  Strategy Analytics: 71% of Smartphones Sold Gl...   \n",
       "4  2020-10-20  Olympus to Support Endoscopic AI Diagnosis Edu...   \n",
       "\n",
       "                                                text  \\\n",
       "0  \\n\\nArtificial intelligence improves parking e...   \n",
       "1  \\nChildren With Autism Saw Their Learning and ...   \n",
       "2  \\n\\nForget ML, AI and Industry 4.0 – obsolesce...   \n",
       "3  \\n\\nStrategy Analytics: 71% of Smartphones Sol...   \n",
       "4  \\n\\nOlympus to Support Endoscopic AI Diagnosis...   \n",
       "\n",
       "                                           main_text  \\\n",
       "0  Photo taken on July 1, 2019, shows a sign for ...   \n",
       "1  Children With Autism Saw Their Learning and So...   \n",
       "2  Forget ML, AI and Industry 4.0 – obsolescence ...   \n",
       "3  Strategy Analytics: 71% of Smartphones Sold Gl...   \n",
       "4  Olympus to Support Endoscopic AI Diagnosis Edu...   \n",
       "\n",
       "                                              Tokens  \\\n",
       "0  [Photo, taken, on, July, 1, ,, 2019, ,, shows,...   \n",
       "1  [Children, With, Autism, Saw, Their, Learning,...   \n",
       "2  [Forget, ML, ,, AI, and, Industry, 4.0, –, obs...   \n",
       "3  [Strategy, Analytics, :, 71, %, of, Smartphone...   \n",
       "4  [Olympus, to, Support, Endoscopic, AI, Diagnos...   \n",
       "\n",
       "                                      cleaned_tokens  vader_score  \\\n",
       "0  [Photo, taken, July, show, sign, electronic, t...       0.9954   \n",
       "1  [Children, With, Autism, Saw, Their, Learning,...       0.9980   \n",
       "2  [Forget, ML, AI, Industry, obsolescence, focus...       0.9967   \n",
       "3  [Strategy, Analytics, Smartphones, Sold, Globa...       0.9988   \n",
       "4  [Olympus, Support, Endoscopic, AI, Diagnosis, ...       0.9923   \n",
       "\n",
       "  vader_sentiment  \n",
       "0        Positive  \n",
       "1        Positive  \n",
       "2        Positive  \n",
       "3        Positive  \n",
       "4        Positive  "
      ]
     },
     "execution_count": 3,
     "metadata": {},
     "output_type": "execute_result"
    }
   ],
   "source": [
    "df.head()"
   ]
  },
  {
   "cell_type": "code",
   "execution_count": 16,
   "id": "17a55d9a-e09e-44b9-b39a-d41ac49407dd",
   "metadata": {},
   "outputs": [],
   "source": [
    "with open('vect.pkl', 'rb') as f, open('svm_sentiment.pkl', 'rb') as model:\n",
    "    vect = pickle.load(f)\n",
    "    svm = pickle.load(model)"
   ]
  },
  {
   "cell_type": "code",
   "execution_count": 17,
   "id": "d77dcdde-9488-47dc-b961-e10fc7bff9d0",
   "metadata": {},
   "outputs": [],
   "source": [
    "text = [' '.join(article) for article in df['cleaned_tokens'].tolist()]"
   ]
  },
  {
   "cell_type": "code",
   "execution_count": 18,
   "id": "d8b3583d-aa39-4e3c-8893-30daeb3b64ad",
   "metadata": {},
   "outputs": [
    {
     "name": "stdout",
     "output_type": "stream",
     "text": [
      "CPU times: user 2min 23s, sys: 1.77 s, total: 2min 25s\n",
      "Wall time: 2min 25s\n"
     ]
    }
   ],
   "source": [
    "%%time\n",
    "y_pred = svm.predict(vect.transform(text))"
   ]
  },
  {
   "cell_type": "code",
   "execution_count": 19,
   "id": "8c5b5134-4b95-49e2-b373-dc2316ec426e",
   "metadata": {},
   "outputs": [
    {
     "data": {
      "text/html": [
       "<div>\n",
       "<style scoped>\n",
       "    .dataframe tbody tr th:only-of-type {\n",
       "        vertical-align: middle;\n",
       "    }\n",
       "\n",
       "    .dataframe tbody tr th {\n",
       "        vertical-align: top;\n",
       "    }\n",
       "\n",
       "    .dataframe thead th {\n",
       "        text-align: right;\n",
       "    }\n",
       "</style>\n",
       "<table border=\"1\" class=\"dataframe\">\n",
       "  <thead>\n",
       "    <tr style=\"text-align: right;\">\n",
       "      <th></th>\n",
       "      <th>url</th>\n",
       "      <th>date</th>\n",
       "      <th>title</th>\n",
       "      <th>text</th>\n",
       "      <th>main_text</th>\n",
       "      <th>relevant</th>\n",
       "      <th>Tokens</th>\n",
       "      <th>cleaned_tokens</th>\n",
       "      <th>ktrain_topic</th>\n",
       "      <th>vader_score</th>\n",
       "      <th>vader_sentiment</th>\n",
       "      <th>svm_sentiment</th>\n",
       "    </tr>\n",
       "  </thead>\n",
       "  <tbody>\n",
       "    <tr>\n",
       "      <th>0</th>\n",
       "      <td>http://en.people.cn/n3/2021/0318/c90000-983012...</td>\n",
       "      <td>2021-03-18</td>\n",
       "      <td>Artificial intelligence improves parking effic...</td>\n",
       "      <td>\\n\\nArtificial intelligence improves parking e...</td>\n",
       "      <td>Photo taken on July 1, 2019, shows a sign for ...</td>\n",
       "      <td>1</td>\n",
       "      <td>[Photo, taken, on, July, 1, ,, 2019, ,, shows,...</td>\n",
       "      <td>[Photo, taken, July, show, sign, electronic, t...</td>\n",
       "      <td>5</td>\n",
       "      <td>0.9954</td>\n",
       "      <td>Positive</td>\n",
       "      <td>1</td>\n",
       "    </tr>\n",
       "    <tr>\n",
       "      <th>1</th>\n",
       "      <td>http://newsparliament.com/2020/02/27/children-...</td>\n",
       "      <td>2020-02-27</td>\n",
       "      <td>Children With Autism Saw Their Learning and So...</td>\n",
       "      <td>\\nChildren With Autism Saw Their Learning and ...</td>\n",
       "      <td>Children With Autism Saw Their Learning and So...</td>\n",
       "      <td>1</td>\n",
       "      <td>[Children, With, Autism, Saw, Their, Learning,...</td>\n",
       "      <td>[Children, With, Autism, Saw, Their, Learning,...</td>\n",
       "      <td>5</td>\n",
       "      <td>0.9980</td>\n",
       "      <td>Positive</td>\n",
       "      <td>0</td>\n",
       "    </tr>\n",
       "    <tr>\n",
       "      <th>2</th>\n",
       "      <td>http://www.dataweek.co.za/12835r</td>\n",
       "      <td>2021-03-26</td>\n",
       "      <td>Forget ML, AI and Industry 4.0 – obsolescence ...</td>\n",
       "      <td>\\n\\nForget ML, AI and Industry 4.0 – obsolesce...</td>\n",
       "      <td>Forget ML, AI and Industry 4.0 – obsolescence ...</td>\n",
       "      <td>1</td>\n",
       "      <td>[Forget, ML, ,, AI, and, Industry, 4.0, –, obs...</td>\n",
       "      <td>[Forget, ML, AI, Industry, obsolescence, focus...</td>\n",
       "      <td>5</td>\n",
       "      <td>0.9967</td>\n",
       "      <td>Positive</td>\n",
       "      <td>0</td>\n",
       "    </tr>\n",
       "    <tr>\n",
       "      <th>3</th>\n",
       "      <td>http://www.homeoffice.consumerelectronicsnet.c...</td>\n",
       "      <td>2021-03-10</td>\n",
       "      <td>Strategy Analytics: 71% of Smartphones Sold Gl...</td>\n",
       "      <td>\\n\\nStrategy Analytics: 71% of Smartphones Sol...</td>\n",
       "      <td>Strategy Analytics: 71% of Smartphones Sold Gl...</td>\n",
       "      <td>1</td>\n",
       "      <td>[Strategy, Analytics, :, 71, %, of, Smartphone...</td>\n",
       "      <td>[Strategy, Analytics, Smartphones, Sold, Globa...</td>\n",
       "      <td>0</td>\n",
       "      <td>0.9988</td>\n",
       "      <td>Positive</td>\n",
       "      <td>1</td>\n",
       "    </tr>\n",
       "    <tr>\n",
       "      <th>4</th>\n",
       "      <td>http://www.itbusinessnet.com/2020/10/olympus-t...</td>\n",
       "      <td>2020-10-20</td>\n",
       "      <td>Olympus to Support Endoscopic AI Diagnosis Edu...</td>\n",
       "      <td>\\n\\nOlympus to Support Endoscopic AI Diagnosis...</td>\n",
       "      <td>Olympus to Support Endoscopic AI Diagnosis Edu...</td>\n",
       "      <td>1</td>\n",
       "      <td>[Olympus, to, Support, Endoscopic, AI, Diagnos...</td>\n",
       "      <td>[Olympus, Support, Endoscopic, AI, Diagnosis, ...</td>\n",
       "      <td>7</td>\n",
       "      <td>0.9923</td>\n",
       "      <td>Positive</td>\n",
       "      <td>0</td>\n",
       "    </tr>\n",
       "  </tbody>\n",
       "</table>\n",
       "</div>"
      ],
      "text/plain": [
       "                                                 url        date  \\\n",
       "0  http://en.people.cn/n3/2021/0318/c90000-983012...  2021-03-18   \n",
       "1  http://newsparliament.com/2020/02/27/children-...  2020-02-27   \n",
       "2                   http://www.dataweek.co.za/12835r  2021-03-26   \n",
       "3  http://www.homeoffice.consumerelectronicsnet.c...  2021-03-10   \n",
       "4  http://www.itbusinessnet.com/2020/10/olympus-t...  2020-10-20   \n",
       "\n",
       "                                               title  \\\n",
       "0  Artificial intelligence improves parking effic...   \n",
       "1  Children With Autism Saw Their Learning and So...   \n",
       "2  Forget ML, AI and Industry 4.0 – obsolescence ...   \n",
       "3  Strategy Analytics: 71% of Smartphones Sold Gl...   \n",
       "4  Olympus to Support Endoscopic AI Diagnosis Edu...   \n",
       "\n",
       "                                                text  \\\n",
       "0  \\n\\nArtificial intelligence improves parking e...   \n",
       "1  \\nChildren With Autism Saw Their Learning and ...   \n",
       "2  \\n\\nForget ML, AI and Industry 4.0 – obsolesce...   \n",
       "3  \\n\\nStrategy Analytics: 71% of Smartphones Sol...   \n",
       "4  \\n\\nOlympus to Support Endoscopic AI Diagnosis...   \n",
       "\n",
       "                                           main_text  relevant  \\\n",
       "0  Photo taken on July 1, 2019, shows a sign for ...         1   \n",
       "1  Children With Autism Saw Their Learning and So...         1   \n",
       "2  Forget ML, AI and Industry 4.0 – obsolescence ...         1   \n",
       "3  Strategy Analytics: 71% of Smartphones Sold Gl...         1   \n",
       "4  Olympus to Support Endoscopic AI Diagnosis Edu...         1   \n",
       "\n",
       "                                              Tokens  \\\n",
       "0  [Photo, taken, on, July, 1, ,, 2019, ,, shows,...   \n",
       "1  [Children, With, Autism, Saw, Their, Learning,...   \n",
       "2  [Forget, ML, ,, AI, and, Industry, 4.0, –, obs...   \n",
       "3  [Strategy, Analytics, :, 71, %, of, Smartphone...   \n",
       "4  [Olympus, to, Support, Endoscopic, AI, Diagnos...   \n",
       "\n",
       "                                      cleaned_tokens ktrain_topic  \\\n",
       "0  [Photo, taken, July, show, sign, electronic, t...            5   \n",
       "1  [Children, With, Autism, Saw, Their, Learning,...            5   \n",
       "2  [Forget, ML, AI, Industry, obsolescence, focus...            5   \n",
       "3  [Strategy, Analytics, Smartphones, Sold, Globa...            0   \n",
       "4  [Olympus, Support, Endoscopic, AI, Diagnosis, ...            7   \n",
       "\n",
       "   vader_score vader_sentiment  svm_sentiment  \n",
       "0       0.9954        Positive              1  \n",
       "1       0.9980        Positive              0  \n",
       "2       0.9967        Positive              0  \n",
       "3       0.9988        Positive              1  \n",
       "4       0.9923        Positive              0  "
      ]
     },
     "execution_count": 19,
     "metadata": {},
     "output_type": "execute_result"
    }
   ],
   "source": [
    "df['svm_sentiment'] = y_pred\n",
    "df.head()"
   ]
  },
  {
   "cell_type": "code",
   "execution_count": 20,
   "id": "8c133dd4-3c14-49e1-a700-9f3fde7c3fc7",
   "metadata": {},
   "outputs": [],
   "source": [
    "import pyarrow as pa\n",
    "import pyarrow.parquet as pq\n",
    "table = pa.Table.from_pandas(df)\n",
    "pq.write_table(table, './data_sentiment_topic.parquet')"
   ]
  },
  {
   "cell_type": "markdown",
   "id": "8da3055d-ab5c-4e84-9bb0-0b26cc3d1410",
   "metadata": {
    "jp-MarkdownHeadingCollapsed": true,
    "tags": []
   },
   "source": [
    "## Customized Vader"
   ]
  },
  {
   "cell_type": "code",
   "execution_count": 6,
   "id": "46b561b6-4865-49f3-8abe-c7398201f775",
   "metadata": {},
   "outputs": [
    {
     "data": {
      "text/html": [
       "<div>\n",
       "<style scoped>\n",
       "    .dataframe tbody tr th:only-of-type {\n",
       "        vertical-align: middle;\n",
       "    }\n",
       "\n",
       "    .dataframe tbody tr th {\n",
       "        vertical-align: top;\n",
       "    }\n",
       "\n",
       "    .dataframe thead th {\n",
       "        text-align: right;\n",
       "    }\n",
       "</style>\n",
       "<table border=\"1\" class=\"dataframe\">\n",
       "  <thead>\n",
       "    <tr style=\"text-align: right;\">\n",
       "      <th></th>\n",
       "      <th>url</th>\n",
       "      <th>date</th>\n",
       "      <th>title</th>\n",
       "      <th>text</th>\n",
       "      <th>main_text</th>\n",
       "      <th>relevant</th>\n",
       "      <th>Tokens</th>\n",
       "      <th>cleaned_tokens</th>\n",
       "      <th>ktrain_topic</th>\n",
       "      <th>vader_score</th>\n",
       "      <th>vader_sentiment</th>\n",
       "      <th>svm_sentiment</th>\n",
       "    </tr>\n",
       "  </thead>\n",
       "  <tbody>\n",
       "    <tr>\n",
       "      <th>0</th>\n",
       "      <td>http://en.people.cn/n3/2021/0318/c90000-983012...</td>\n",
       "      <td>2021-03-18</td>\n",
       "      <td>Artificial intelligence improves parking effic...</td>\n",
       "      <td>\\n\\nArtificial intelligence improves parking e...</td>\n",
       "      <td>Photo taken on July 1, 2019, shows a sign for ...</td>\n",
       "      <td>1</td>\n",
       "      <td>[Photo, taken, on, July, 1, ,, 2019, ,, shows,...</td>\n",
       "      <td>[Photo, taken, July, show, sign, electronic, t...</td>\n",
       "      <td>5</td>\n",
       "      <td>0.9954</td>\n",
       "      <td>Positive</td>\n",
       "      <td>1</td>\n",
       "    </tr>\n",
       "    <tr>\n",
       "      <th>1</th>\n",
       "      <td>http://newsparliament.com/2020/02/27/children-...</td>\n",
       "      <td>2020-02-27</td>\n",
       "      <td>Children With Autism Saw Their Learning and So...</td>\n",
       "      <td>\\nChildren With Autism Saw Their Learning and ...</td>\n",
       "      <td>Children With Autism Saw Their Learning and So...</td>\n",
       "      <td>1</td>\n",
       "      <td>[Children, With, Autism, Saw, Their, Learning,...</td>\n",
       "      <td>[Children, With, Autism, Saw, Their, Learning,...</td>\n",
       "      <td>5</td>\n",
       "      <td>0.9980</td>\n",
       "      <td>Positive</td>\n",
       "      <td>0</td>\n",
       "    </tr>\n",
       "    <tr>\n",
       "      <th>2</th>\n",
       "      <td>http://www.dataweek.co.za/12835r</td>\n",
       "      <td>2021-03-26</td>\n",
       "      <td>Forget ML, AI and Industry 4.0 – obsolescence ...</td>\n",
       "      <td>\\n\\nForget ML, AI and Industry 4.0 – obsolesce...</td>\n",
       "      <td>Forget ML, AI and Industry 4.0 – obsolescence ...</td>\n",
       "      <td>1</td>\n",
       "      <td>[Forget, ML, ,, AI, and, Industry, 4.0, –, obs...</td>\n",
       "      <td>[Forget, ML, AI, Industry, obsolescence, focus...</td>\n",
       "      <td>5</td>\n",
       "      <td>0.9967</td>\n",
       "      <td>Positive</td>\n",
       "      <td>0</td>\n",
       "    </tr>\n",
       "    <tr>\n",
       "      <th>3</th>\n",
       "      <td>http://www.homeoffice.consumerelectronicsnet.c...</td>\n",
       "      <td>2021-03-10</td>\n",
       "      <td>Strategy Analytics: 71% of Smartphones Sold Gl...</td>\n",
       "      <td>\\n\\nStrategy Analytics: 71% of Smartphones Sol...</td>\n",
       "      <td>Strategy Analytics: 71% of Smartphones Sold Gl...</td>\n",
       "      <td>1</td>\n",
       "      <td>[Strategy, Analytics, :, 71, %, of, Smartphone...</td>\n",
       "      <td>[Strategy, Analytics, Smartphones, Sold, Globa...</td>\n",
       "      <td>0</td>\n",
       "      <td>0.9988</td>\n",
       "      <td>Positive</td>\n",
       "      <td>1</td>\n",
       "    </tr>\n",
       "    <tr>\n",
       "      <th>4</th>\n",
       "      <td>http://www.itbusinessnet.com/2020/10/olympus-t...</td>\n",
       "      <td>2020-10-20</td>\n",
       "      <td>Olympus to Support Endoscopic AI Diagnosis Edu...</td>\n",
       "      <td>\\n\\nOlympus to Support Endoscopic AI Diagnosis...</td>\n",
       "      <td>Olympus to Support Endoscopic AI Diagnosis Edu...</td>\n",
       "      <td>1</td>\n",
       "      <td>[Olympus, to, Support, Endoscopic, AI, Diagnos...</td>\n",
       "      <td>[Olympus, Support, Endoscopic, AI, Diagnosis, ...</td>\n",
       "      <td>7</td>\n",
       "      <td>0.9923</td>\n",
       "      <td>Positive</td>\n",
       "      <td>0</td>\n",
       "    </tr>\n",
       "  </tbody>\n",
       "</table>\n",
       "</div>"
      ],
      "text/plain": [
       "                                                 url        date  \\\n",
       "0  http://en.people.cn/n3/2021/0318/c90000-983012...  2021-03-18   \n",
       "1  http://newsparliament.com/2020/02/27/children-...  2020-02-27   \n",
       "2                   http://www.dataweek.co.za/12835r  2021-03-26   \n",
       "3  http://www.homeoffice.consumerelectronicsnet.c...  2021-03-10   \n",
       "4  http://www.itbusinessnet.com/2020/10/olympus-t...  2020-10-20   \n",
       "\n",
       "                                               title  \\\n",
       "0  Artificial intelligence improves parking effic...   \n",
       "1  Children With Autism Saw Their Learning and So...   \n",
       "2  Forget ML, AI and Industry 4.0 – obsolescence ...   \n",
       "3  Strategy Analytics: 71% of Smartphones Sold Gl...   \n",
       "4  Olympus to Support Endoscopic AI Diagnosis Edu...   \n",
       "\n",
       "                                                text  \\\n",
       "0  \\n\\nArtificial intelligence improves parking e...   \n",
       "1  \\nChildren With Autism Saw Their Learning and ...   \n",
       "2  \\n\\nForget ML, AI and Industry 4.0 – obsolesce...   \n",
       "3  \\n\\nStrategy Analytics: 71% of Smartphones Sol...   \n",
       "4  \\n\\nOlympus to Support Endoscopic AI Diagnosis...   \n",
       "\n",
       "                                           main_text  relevant  \\\n",
       "0  Photo taken on July 1, 2019, shows a sign for ...         1   \n",
       "1  Children With Autism Saw Their Learning and So...         1   \n",
       "2  Forget ML, AI and Industry 4.0 – obsolescence ...         1   \n",
       "3  Strategy Analytics: 71% of Smartphones Sold Gl...         1   \n",
       "4  Olympus to Support Endoscopic AI Diagnosis Edu...         1   \n",
       "\n",
       "                                              Tokens  \\\n",
       "0  [Photo, taken, on, July, 1, ,, 2019, ,, shows,...   \n",
       "1  [Children, With, Autism, Saw, Their, Learning,...   \n",
       "2  [Forget, ML, ,, AI, and, Industry, 4.0, –, obs...   \n",
       "3  [Strategy, Analytics, :, 71, %, of, Smartphone...   \n",
       "4  [Olympus, to, Support, Endoscopic, AI, Diagnos...   \n",
       "\n",
       "                                      cleaned_tokens ktrain_topic  \\\n",
       "0  [Photo, taken, July, show, sign, electronic, t...            5   \n",
       "1  [Children, With, Autism, Saw, Their, Learning,...            5   \n",
       "2  [Forget, ML, AI, Industry, obsolescence, focus...            5   \n",
       "3  [Strategy, Analytics, Smartphones, Sold, Globa...            0   \n",
       "4  [Olympus, Support, Endoscopic, AI, Diagnosis, ...            7   \n",
       "\n",
       "   vader_score vader_sentiment  svm_sentiment  \n",
       "0       0.9954        Positive              1  \n",
       "1       0.9980        Positive              0  \n",
       "2       0.9967        Positive              0  \n",
       "3       0.9988        Positive              1  \n",
       "4       0.9923        Positive              0  "
      ]
     },
     "execution_count": 6,
     "metadata": {},
     "output_type": "execute_result"
    }
   ],
   "source": [
    "new = pd.read_parquet('data_sentiment_topic.parquet')\n",
    "new.head()"
   ]
  },
  {
   "cell_type": "code",
   "execution_count": 7,
   "id": "7b3fa496-283b-44e9-a3db-87163791c0d8",
   "metadata": {},
   "outputs": [],
   "source": [
    "#Create a handle to the SentimentIntensityAnalyzer object\n",
    "analyzer2 = SentimentIntensityAnalyzer()"
   ]
  },
  {
   "cell_type": "code",
   "execution_count": 8,
   "id": "fa03068c-1448-4080-afa1-ee1af1613836",
   "metadata": {},
   "outputs": [],
   "source": [
    "#Update the analyzer with customized word list\n",
    "pos = ['milestone', 'opportunity', 'growth', 'innovation', 'efficiency', 'productivity', 'competitiveness', 'prospects', \n",
    "       'sustainability', 'development', 'progress', 'transformation', 'digitization', 'smart', 'wisdom', \n",
    "       'optimization', 'data-driven', 'prediction', 'accuracy', 'high-quality', 'high-efficiency', 'cost-saving', 'safety', \n",
    "       'reliability', 'sustainability', 'future-oriented', 'leading', 'leader', 'advantage', 'forward-looking', \n",
    "       'exploration', 'creation', 'experimentation', 'discovery', 'breakthrough']\n",
    "\n",
    "neg = ['unemployment', 'uncertainty', 'contraction', 'reduction', 'downsizing', 'bottleneck', 'challenge', 'obstacle', 'risk', \n",
    "       'insecurity', 'instability', 'unreliability', 'opacity', 'restriction', 'limitation', 'regression', 'stagnation', \n",
    "       'backwardness', 'failure', 'error', 'defect', 'problem', 'difficulty', 'negative', 'pessimistic', 'worry', 'fear', \n",
    "       'inadequacy', 'pressure', 'struggle', 'plight', 'crisis', 'frustration', 'disappointment', 'injury', 'hopelessness', \n",
    "       'pessimism', 'downward trend', 'stubbornness', 'conservatism', 'resistance', 'constraint', 'stagnation', 'inflexibility', \n",
    "       'outdated', 'slow', 'low-efficiency', 'low-quality', 'high-cost', 'adverse impact', 'loss', 'high risk', 'heavy burden', \n",
    "       'drag', 'high challenge', 'detrimental to human beings', 'opposition', 'confrontation']\n",
    "\n",
    "analyzer2.lexicon.update({word: 1.0 for word in pos})\n",
    "analyzer2.lexicon.update({word: -1.0 for word in neg})"
   ]
  },
  {
   "cell_type": "code",
   "execution_count": 9,
   "id": "b05e6e9d-4c4f-4860-8221-8569991764f8",
   "metadata": {},
   "outputs": [],
   "source": [
    "def vader_score2(text):\n",
    "    score = analyzer2.polarity_scores(text)\n",
    "    return score['compound']"
   ]
  },
  {
   "cell_type": "code",
   "execution_count": 12,
   "id": "b6f6a35e-ddc3-45d1-bf66-93b614fa8753",
   "metadata": {},
   "outputs": [
    {
     "data": {
      "application/vnd.jupyter.widget-view+json": {
       "model_id": "0f02f15525b54cbbb2e1b14c64b4d692",
       "version_major": 2,
       "version_minor": 0
      },
      "text/plain": [
       "VBox(children=(HBox(children=(IntProgress(value=0, description='0.00%', max=8516), Label(value='0 / 8516'))), …"
      ]
     },
     "metadata": {},
     "output_type": "display_data"
    },
    {
     "name": "stdout",
     "output_type": "stream",
     "text": [
      "CPU times: user 6.1 s, sys: 3.56 s, total: 9.66 s\n",
      "Wall time: 13min 29s\n"
     ]
    }
   ],
   "source": [
    "%%time\n",
    "new['vader_score2'] = new['main_text'].parallel_apply(vader_score2)"
   ]
  },
  {
   "cell_type": "code",
   "execution_count": 32,
   "id": "9e1695f0-0332-4bb2-b923-05589d4fc2b6",
   "metadata": {},
   "outputs": [
    {
     "name": "stderr",
     "output_type": "stream",
     "text": [
      "/opt/conda/lib/python3.7/site-packages/ipykernel_launcher.py:1: DeprecationWarning: `np.float` is a deprecated alias for the builtin `float`. To silence this warning, use `float` by itself. Doing this will not modify any behavior and is safe. If you specifically wanted the numpy scalar type, use `np.float64` here.\n",
      "Deprecated in NumPy 1.20; for more details and guidance: https://numpy.org/devdocs/release/1.20.0-notes.html#deprecations\n",
      "  \"\"\"Entry point for launching an IPython kernel.\n",
      "/opt/conda/lib/python3.7/site-packages/ipykernel_launcher.py:2: DeprecationWarning: `np.float` is a deprecated alias for the builtin `float`. To silence this warning, use `float` by itself. Doing this will not modify any behavior and is safe. If you specifically wanted the numpy scalar type, use `np.float64` here.\n",
      "Deprecated in NumPy 1.20; for more details and guidance: https://numpy.org/devdocs/release/1.20.0-notes.html#deprecations\n",
      "  \n"
     ]
    }
   ],
   "source": [
    "new['vader_sentiment2'] = np.where(new['vader_score2'].astype(np.float) > 0, 'Positive', 'Negative')\n",
    "new['vader_sentiment2'] = np.where(new['vader_score2'].astype(np.float) == 0, 'Neutral', new['vader_sentiment'])"
   ]
  },
  {
   "cell_type": "code",
   "execution_count": 33,
   "id": "9576d9f1-6773-4390-89af-f5d2065c901d",
   "metadata": {},
   "outputs": [
    {
     "data": {
      "text/html": [
       "<div>\n",
       "<style scoped>\n",
       "    .dataframe tbody tr th:only-of-type {\n",
       "        vertical-align: middle;\n",
       "    }\n",
       "\n",
       "    .dataframe tbody tr th {\n",
       "        vertical-align: top;\n",
       "    }\n",
       "\n",
       "    .dataframe thead th {\n",
       "        text-align: right;\n",
       "    }\n",
       "</style>\n",
       "<table border=\"1\" class=\"dataframe\">\n",
       "  <thead>\n",
       "    <tr style=\"text-align: right;\">\n",
       "      <th></th>\n",
       "      <th>url</th>\n",
       "      <th>date</th>\n",
       "      <th>title</th>\n",
       "      <th>text</th>\n",
       "      <th>main_text</th>\n",
       "      <th>relevant</th>\n",
       "      <th>Tokens</th>\n",
       "      <th>cleaned_tokens</th>\n",
       "      <th>ktrain_topic</th>\n",
       "      <th>vader_score</th>\n",
       "      <th>vader_sentiment</th>\n",
       "      <th>svm_sentiment</th>\n",
       "      <th>vader_score2</th>\n",
       "      <th>textblob_sent</th>\n",
       "      <th>vader_sentiment2</th>\n",
       "    </tr>\n",
       "  </thead>\n",
       "  <tbody>\n",
       "    <tr>\n",
       "      <th>0</th>\n",
       "      <td>http://en.people.cn/n3/2021/0318/c90000-983012...</td>\n",
       "      <td>2021-03-18</td>\n",
       "      <td>Artificial intelligence improves parking effic...</td>\n",
       "      <td>\\n\\nArtificial intelligence improves parking e...</td>\n",
       "      <td>Photo taken on July 1, 2019, shows a sign for ...</td>\n",
       "      <td>1</td>\n",
       "      <td>[Photo, taken, on, July, 1, ,, 2019, ,, shows,...</td>\n",
       "      <td>[Photo, taken, July, show, sign, electronic, t...</td>\n",
       "      <td>5</td>\n",
       "      <td>0.9954</td>\n",
       "      <td>Positive</td>\n",
       "      <td>1</td>\n",
       "      <td>0.9946</td>\n",
       "      <td>Positive</td>\n",
       "      <td>Positive</td>\n",
       "    </tr>\n",
       "    <tr>\n",
       "      <th>1</th>\n",
       "      <td>http://newsparliament.com/2020/02/27/children-...</td>\n",
       "      <td>2020-02-27</td>\n",
       "      <td>Children With Autism Saw Their Learning and So...</td>\n",
       "      <td>\\nChildren With Autism Saw Their Learning and ...</td>\n",
       "      <td>Children With Autism Saw Their Learning and So...</td>\n",
       "      <td>1</td>\n",
       "      <td>[Children, With, Autism, Saw, Their, Learning,...</td>\n",
       "      <td>[Children, With, Autism, Saw, Their, Learning,...</td>\n",
       "      <td>5</td>\n",
       "      <td>0.9980</td>\n",
       "      <td>Positive</td>\n",
       "      <td>0</td>\n",
       "      <td>0.9981</td>\n",
       "      <td>Positive</td>\n",
       "      <td>Positive</td>\n",
       "    </tr>\n",
       "    <tr>\n",
       "      <th>2</th>\n",
       "      <td>http://www.dataweek.co.za/12835r</td>\n",
       "      <td>2021-03-26</td>\n",
       "      <td>Forget ML, AI and Industry 4.0 – obsolescence ...</td>\n",
       "      <td>\\n\\nForget ML, AI and Industry 4.0 – obsolesce...</td>\n",
       "      <td>Forget ML, AI and Industry 4.0 – obsolescence ...</td>\n",
       "      <td>1</td>\n",
       "      <td>[Forget, ML, ,, AI, and, Industry, 4.0, –, obs...</td>\n",
       "      <td>[Forget, ML, AI, Industry, obsolescence, focus...</td>\n",
       "      <td>5</td>\n",
       "      <td>0.9967</td>\n",
       "      <td>Positive</td>\n",
       "      <td>0</td>\n",
       "      <td>0.9975</td>\n",
       "      <td>Positive</td>\n",
       "      <td>Positive</td>\n",
       "    </tr>\n",
       "    <tr>\n",
       "      <th>3</th>\n",
       "      <td>http://www.homeoffice.consumerelectronicsnet.c...</td>\n",
       "      <td>2021-03-10</td>\n",
       "      <td>Strategy Analytics: 71% of Smartphones Sold Gl...</td>\n",
       "      <td>\\n\\nStrategy Analytics: 71% of Smartphones Sol...</td>\n",
       "      <td>Strategy Analytics: 71% of Smartphones Sold Gl...</td>\n",
       "      <td>1</td>\n",
       "      <td>[Strategy, Analytics, :, 71, %, of, Smartphone...</td>\n",
       "      <td>[Strategy, Analytics, Smartphones, Sold, Globa...</td>\n",
       "      <td>0</td>\n",
       "      <td>0.9988</td>\n",
       "      <td>Positive</td>\n",
       "      <td>1</td>\n",
       "      <td>0.9988</td>\n",
       "      <td>Positive</td>\n",
       "      <td>Positive</td>\n",
       "    </tr>\n",
       "    <tr>\n",
       "      <th>4</th>\n",
       "      <td>http://www.itbusinessnet.com/2020/10/olympus-t...</td>\n",
       "      <td>2020-10-20</td>\n",
       "      <td>Olympus to Support Endoscopic AI Diagnosis Edu...</td>\n",
       "      <td>\\n\\nOlympus to Support Endoscopic AI Diagnosis...</td>\n",
       "      <td>Olympus to Support Endoscopic AI Diagnosis Edu...</td>\n",
       "      <td>1</td>\n",
       "      <td>[Olympus, to, Support, Endoscopic, AI, Diagnos...</td>\n",
       "      <td>[Olympus, Support, Endoscopic, AI, Diagnosis, ...</td>\n",
       "      <td>7</td>\n",
       "      <td>0.9923</td>\n",
       "      <td>Positive</td>\n",
       "      <td>0</td>\n",
       "      <td>0.9943</td>\n",
       "      <td>Positive</td>\n",
       "      <td>Positive</td>\n",
       "    </tr>\n",
       "  </tbody>\n",
       "</table>\n",
       "</div>"
      ],
      "text/plain": [
       "                                                 url        date  \\\n",
       "0  http://en.people.cn/n3/2021/0318/c90000-983012...  2021-03-18   \n",
       "1  http://newsparliament.com/2020/02/27/children-...  2020-02-27   \n",
       "2                   http://www.dataweek.co.za/12835r  2021-03-26   \n",
       "3  http://www.homeoffice.consumerelectronicsnet.c...  2021-03-10   \n",
       "4  http://www.itbusinessnet.com/2020/10/olympus-t...  2020-10-20   \n",
       "\n",
       "                                               title  \\\n",
       "0  Artificial intelligence improves parking effic...   \n",
       "1  Children With Autism Saw Their Learning and So...   \n",
       "2  Forget ML, AI and Industry 4.0 – obsolescence ...   \n",
       "3  Strategy Analytics: 71% of Smartphones Sold Gl...   \n",
       "4  Olympus to Support Endoscopic AI Diagnosis Edu...   \n",
       "\n",
       "                                                text  \\\n",
       "0  \\n\\nArtificial intelligence improves parking e...   \n",
       "1  \\nChildren With Autism Saw Their Learning and ...   \n",
       "2  \\n\\nForget ML, AI and Industry 4.0 – obsolesce...   \n",
       "3  \\n\\nStrategy Analytics: 71% of Smartphones Sol...   \n",
       "4  \\n\\nOlympus to Support Endoscopic AI Diagnosis...   \n",
       "\n",
       "                                           main_text  relevant  \\\n",
       "0  Photo taken on July 1, 2019, shows a sign for ...         1   \n",
       "1  Children With Autism Saw Their Learning and So...         1   \n",
       "2  Forget ML, AI and Industry 4.0 – obsolescence ...         1   \n",
       "3  Strategy Analytics: 71% of Smartphones Sold Gl...         1   \n",
       "4  Olympus to Support Endoscopic AI Diagnosis Edu...         1   \n",
       "\n",
       "                                              Tokens  \\\n",
       "0  [Photo, taken, on, July, 1, ,, 2019, ,, shows,...   \n",
       "1  [Children, With, Autism, Saw, Their, Learning,...   \n",
       "2  [Forget, ML, ,, AI, and, Industry, 4.0, –, obs...   \n",
       "3  [Strategy, Analytics, :, 71, %, of, Smartphone...   \n",
       "4  [Olympus, to, Support, Endoscopic, AI, Diagnos...   \n",
       "\n",
       "                                      cleaned_tokens ktrain_topic  \\\n",
       "0  [Photo, taken, July, show, sign, electronic, t...            5   \n",
       "1  [Children, With, Autism, Saw, Their, Learning,...            5   \n",
       "2  [Forget, ML, AI, Industry, obsolescence, focus...            5   \n",
       "3  [Strategy, Analytics, Smartphones, Sold, Globa...            0   \n",
       "4  [Olympus, Support, Endoscopic, AI, Diagnosis, ...            7   \n",
       "\n",
       "   vader_score vader_sentiment  svm_sentiment  vader_score2 textblob_sent  \\\n",
       "0       0.9954        Positive              1        0.9946      Positive   \n",
       "1       0.9980        Positive              0        0.9981      Positive   \n",
       "2       0.9967        Positive              0        0.9975      Positive   \n",
       "3       0.9988        Positive              1        0.9988      Positive   \n",
       "4       0.9923        Positive              0        0.9943      Positive   \n",
       "\n",
       "  vader_sentiment2  \n",
       "0         Positive  \n",
       "1         Positive  \n",
       "2         Positive  \n",
       "3         Positive  \n",
       "4         Positive  "
      ]
     },
     "execution_count": 33,
     "metadata": {},
     "output_type": "execute_result"
    }
   ],
   "source": [
    "new.head()"
   ]
  },
  {
   "cell_type": "markdown",
   "id": "2241f716-9858-494e-bc2b-e1a86c6465ac",
   "metadata": {
    "tags": []
   },
   "source": [
    "## PatternAnalyzer from textblob"
   ]
  },
  {
   "cell_type": "code",
   "execution_count": 16,
   "id": "25ca34cb-5464-4219-a4d6-d62fee8ea9fe",
   "metadata": {},
   "outputs": [
    {
     "name": "stdout",
     "output_type": "stream",
     "text": [
      "Collecting textblob\n",
      "  Using cached textblob-0.17.1-py2.py3-none-any.whl (636 kB)\n",
      "Requirement already satisfied: nltk>=3.1 in /home/jupyter/.local/lib/python3.7/site-packages (from textblob) (3.8.1)\n",
      "Requirement already satisfied: joblib in /opt/conda/lib/python3.7/site-packages (from nltk>=3.1->textblob) (1.2.0)\n",
      "Requirement already satisfied: click in /home/jupyter/.local/lib/python3.7/site-packages (from nltk>=3.1->textblob) (7.1.2)\n",
      "Collecting regex>=2021.8.3\n",
      "  Using cached regex-2023.5.5-cp37-cp37m-manylinux_2_17_x86_64.manylinux2014_x86_64.whl (756 kB)\n",
      "Requirement already satisfied: tqdm in /opt/conda/lib/python3.7/site-packages (from nltk>=3.1->textblob) (4.64.1)\n",
      "Installing collected packages: regex, textblob\n",
      "\u001b[31mERROR: pip's dependency resolver does not currently take into account all the packages that are installed. This behaviour is the source of the following dependency conflicts.\n",
      "ktrain 0.37.0 requires cchardet, which is not installed.\n",
      "ktrain 0.37.0 requires jieba, which is not installed.\n",
      "ktrain 0.37.0 requires langdetect, which is not installed.\n",
      "ktrain 0.37.0 requires syntok>1.3.3, which is not installed.\n",
      "ktrain 0.37.0 requires whoosh, which is not installed.\u001b[0m\u001b[31m\n",
      "\u001b[0mSuccessfully installed regex-2023.5.5 textblob-0.17.1\n"
     ]
    }
   ],
   "source": [
    "!pip install textblob"
   ]
  },
  {
   "cell_type": "code",
   "execution_count": 17,
   "id": "35c7a2cf-651a-43c4-a1bf-30eb675c06c5",
   "metadata": {},
   "outputs": [],
   "source": [
    "from textblob import TextBlob\n",
    "from textblob.sentiments import PatternAnalyzer"
   ]
  },
  {
   "cell_type": "code",
   "execution_count": 18,
   "id": "52796248-668e-4e47-8ff8-1a552b41ce97",
   "metadata": {},
   "outputs": [],
   "source": [
    "patternanalyzer = PatternAnalyzer()"
   ]
  },
  {
   "cell_type": "code",
   "execution_count": 20,
   "id": "eb55b33f-a061-486e-92a0-1f59d905d86b",
   "metadata": {},
   "outputs": [],
   "source": [
    "def textblob_sent(text):\n",
    "    score = TextBlob(text, analyzer = patternanalyzer).sentiment.polarity\n",
    "    \n",
    "    if score > 0: return 'Positive'\n",
    "    elif score < 0: return 'Negative'\n",
    "    else: return 'Neutral'"
   ]
  },
  {
   "cell_type": "code",
   "execution_count": 21,
   "id": "adf3cb04-204a-405a-b2b2-a1b6cd5b13f5",
   "metadata": {},
   "outputs": [
    {
     "data": {
      "application/vnd.jupyter.widget-view+json": {
       "model_id": "0138af8c17f24f26a088d0400f3ce41f",
       "version_major": 2,
       "version_minor": 0
      },
      "text/plain": [
       "VBox(children=(HBox(children=(IntProgress(value=0, description='0.00%', max=8516), Label(value='0 / 8516'))), …"
      ]
     },
     "metadata": {},
     "output_type": "display_data"
    },
    {
     "name": "stdout",
     "output_type": "stream",
     "text": [
      "CPU times: user 5.91 s, sys: 3.37 s, total: 9.28 s\n",
      "Wall time: 1min 16s\n"
     ]
    }
   ],
   "source": [
    "%%time\n",
    "new['textblob_sent'] = new['main_text'].parallel_apply(textblob_sent)"
   ]
  },
  {
   "cell_type": "code",
   "execution_count": 23,
   "id": "5701582e-42f9-4a38-8d53-a7196a1cb9ac",
   "metadata": {},
   "outputs": [
    {
     "data": {
      "text/html": [
       "<div>\n",
       "<style scoped>\n",
       "    .dataframe tbody tr th:only-of-type {\n",
       "        vertical-align: middle;\n",
       "    }\n",
       "\n",
       "    .dataframe tbody tr th {\n",
       "        vertical-align: top;\n",
       "    }\n",
       "\n",
       "    .dataframe thead th {\n",
       "        text-align: right;\n",
       "    }\n",
       "</style>\n",
       "<table border=\"1\" class=\"dataframe\">\n",
       "  <thead>\n",
       "    <tr style=\"text-align: right;\">\n",
       "      <th></th>\n",
       "      <th>url</th>\n",
       "      <th>date</th>\n",
       "      <th>title</th>\n",
       "      <th>text</th>\n",
       "      <th>main_text</th>\n",
       "      <th>relevant</th>\n",
       "      <th>Tokens</th>\n",
       "      <th>cleaned_tokens</th>\n",
       "      <th>ktrain_topic</th>\n",
       "      <th>vader_score</th>\n",
       "      <th>vader_sentiment</th>\n",
       "      <th>svm_sentiment</th>\n",
       "      <th>vader_score2</th>\n",
       "      <th>vader_sentiment2</th>\n",
       "      <th>textblob_sent</th>\n",
       "    </tr>\n",
       "  </thead>\n",
       "  <tbody>\n",
       "    <tr>\n",
       "      <th>0</th>\n",
       "      <td>http://en.people.cn/n3/2021/0318/c90000-983012...</td>\n",
       "      <td>2021-03-18</td>\n",
       "      <td>Artificial intelligence improves parking effic...</td>\n",
       "      <td>\\n\\nArtificial intelligence improves parking e...</td>\n",
       "      <td>Photo taken on July 1, 2019, shows a sign for ...</td>\n",
       "      <td>1</td>\n",
       "      <td>[Photo, taken, on, July, 1, ,, 2019, ,, shows,...</td>\n",
       "      <td>[Photo, taken, July, show, sign, electronic, t...</td>\n",
       "      <td>5</td>\n",
       "      <td>0.9954</td>\n",
       "      <td>Positive</td>\n",
       "      <td>1</td>\n",
       "      <td>0.9946</td>\n",
       "      <td>Positive</td>\n",
       "      <td>Positive</td>\n",
       "    </tr>\n",
       "    <tr>\n",
       "      <th>1</th>\n",
       "      <td>http://newsparliament.com/2020/02/27/children-...</td>\n",
       "      <td>2020-02-27</td>\n",
       "      <td>Children With Autism Saw Their Learning and So...</td>\n",
       "      <td>\\nChildren With Autism Saw Their Learning and ...</td>\n",
       "      <td>Children With Autism Saw Their Learning and So...</td>\n",
       "      <td>1</td>\n",
       "      <td>[Children, With, Autism, Saw, Their, Learning,...</td>\n",
       "      <td>[Children, With, Autism, Saw, Their, Learning,...</td>\n",
       "      <td>5</td>\n",
       "      <td>0.9980</td>\n",
       "      <td>Positive</td>\n",
       "      <td>0</td>\n",
       "      <td>0.9981</td>\n",
       "      <td>Positive</td>\n",
       "      <td>Positive</td>\n",
       "    </tr>\n",
       "    <tr>\n",
       "      <th>2</th>\n",
       "      <td>http://www.dataweek.co.za/12835r</td>\n",
       "      <td>2021-03-26</td>\n",
       "      <td>Forget ML, AI and Industry 4.0 – obsolescence ...</td>\n",
       "      <td>\\n\\nForget ML, AI and Industry 4.0 – obsolesce...</td>\n",
       "      <td>Forget ML, AI and Industry 4.0 – obsolescence ...</td>\n",
       "      <td>1</td>\n",
       "      <td>[Forget, ML, ,, AI, and, Industry, 4.0, –, obs...</td>\n",
       "      <td>[Forget, ML, AI, Industry, obsolescence, focus...</td>\n",
       "      <td>5</td>\n",
       "      <td>0.9967</td>\n",
       "      <td>Positive</td>\n",
       "      <td>0</td>\n",
       "      <td>0.9975</td>\n",
       "      <td>Positive</td>\n",
       "      <td>Positive</td>\n",
       "    </tr>\n",
       "    <tr>\n",
       "      <th>3</th>\n",
       "      <td>http://www.homeoffice.consumerelectronicsnet.c...</td>\n",
       "      <td>2021-03-10</td>\n",
       "      <td>Strategy Analytics: 71% of Smartphones Sold Gl...</td>\n",
       "      <td>\\n\\nStrategy Analytics: 71% of Smartphones Sol...</td>\n",
       "      <td>Strategy Analytics: 71% of Smartphones Sold Gl...</td>\n",
       "      <td>1</td>\n",
       "      <td>[Strategy, Analytics, :, 71, %, of, Smartphone...</td>\n",
       "      <td>[Strategy, Analytics, Smartphones, Sold, Globa...</td>\n",
       "      <td>0</td>\n",
       "      <td>0.9988</td>\n",
       "      <td>Positive</td>\n",
       "      <td>1</td>\n",
       "      <td>0.9988</td>\n",
       "      <td>Positive</td>\n",
       "      <td>Positive</td>\n",
       "    </tr>\n",
       "    <tr>\n",
       "      <th>4</th>\n",
       "      <td>http://www.itbusinessnet.com/2020/10/olympus-t...</td>\n",
       "      <td>2020-10-20</td>\n",
       "      <td>Olympus to Support Endoscopic AI Diagnosis Edu...</td>\n",
       "      <td>\\n\\nOlympus to Support Endoscopic AI Diagnosis...</td>\n",
       "      <td>Olympus to Support Endoscopic AI Diagnosis Edu...</td>\n",
       "      <td>1</td>\n",
       "      <td>[Olympus, to, Support, Endoscopic, AI, Diagnos...</td>\n",
       "      <td>[Olympus, Support, Endoscopic, AI, Diagnosis, ...</td>\n",
       "      <td>7</td>\n",
       "      <td>0.9923</td>\n",
       "      <td>Positive</td>\n",
       "      <td>0</td>\n",
       "      <td>0.9943</td>\n",
       "      <td>Positive</td>\n",
       "      <td>Positive</td>\n",
       "    </tr>\n",
       "  </tbody>\n",
       "</table>\n",
       "</div>"
      ],
      "text/plain": [
       "                                                 url        date  \\\n",
       "0  http://en.people.cn/n3/2021/0318/c90000-983012...  2021-03-18   \n",
       "1  http://newsparliament.com/2020/02/27/children-...  2020-02-27   \n",
       "2                   http://www.dataweek.co.za/12835r  2021-03-26   \n",
       "3  http://www.homeoffice.consumerelectronicsnet.c...  2021-03-10   \n",
       "4  http://www.itbusinessnet.com/2020/10/olympus-t...  2020-10-20   \n",
       "\n",
       "                                               title  \\\n",
       "0  Artificial intelligence improves parking effic...   \n",
       "1  Children With Autism Saw Their Learning and So...   \n",
       "2  Forget ML, AI and Industry 4.0 – obsolescence ...   \n",
       "3  Strategy Analytics: 71% of Smartphones Sold Gl...   \n",
       "4  Olympus to Support Endoscopic AI Diagnosis Edu...   \n",
       "\n",
       "                                                text  \\\n",
       "0  \\n\\nArtificial intelligence improves parking e...   \n",
       "1  \\nChildren With Autism Saw Their Learning and ...   \n",
       "2  \\n\\nForget ML, AI and Industry 4.0 – obsolesce...   \n",
       "3  \\n\\nStrategy Analytics: 71% of Smartphones Sol...   \n",
       "4  \\n\\nOlympus to Support Endoscopic AI Diagnosis...   \n",
       "\n",
       "                                           main_text  relevant  \\\n",
       "0  Photo taken on July 1, 2019, shows a sign for ...         1   \n",
       "1  Children With Autism Saw Their Learning and So...         1   \n",
       "2  Forget ML, AI and Industry 4.0 – obsolescence ...         1   \n",
       "3  Strategy Analytics: 71% of Smartphones Sold Gl...         1   \n",
       "4  Olympus to Support Endoscopic AI Diagnosis Edu...         1   \n",
       "\n",
       "                                              Tokens  \\\n",
       "0  [Photo, taken, on, July, 1, ,, 2019, ,, shows,...   \n",
       "1  [Children, With, Autism, Saw, Their, Learning,...   \n",
       "2  [Forget, ML, ,, AI, and, Industry, 4.0, –, obs...   \n",
       "3  [Strategy, Analytics, :, 71, %, of, Smartphone...   \n",
       "4  [Olympus, to, Support, Endoscopic, AI, Diagnos...   \n",
       "\n",
       "                                      cleaned_tokens ktrain_topic  \\\n",
       "0  [Photo, taken, July, show, sign, electronic, t...            5   \n",
       "1  [Children, With, Autism, Saw, Their, Learning,...            5   \n",
       "2  [Forget, ML, AI, Industry, obsolescence, focus...            5   \n",
       "3  [Strategy, Analytics, Smartphones, Sold, Globa...            0   \n",
       "4  [Olympus, Support, Endoscopic, AI, Diagnosis, ...            7   \n",
       "\n",
       "   vader_score vader_sentiment  svm_sentiment  vader_score2 vader_sentiment2  \\\n",
       "0       0.9954        Positive              1        0.9946         Positive   \n",
       "1       0.9980        Positive              0        0.9981         Positive   \n",
       "2       0.9967        Positive              0        0.9975         Positive   \n",
       "3       0.9988        Positive              1        0.9988         Positive   \n",
       "4       0.9923        Positive              0        0.9943         Positive   \n",
       "\n",
       "  textblob_sent  \n",
       "0      Positive  \n",
       "1      Positive  \n",
       "2      Positive  \n",
       "3      Positive  \n",
       "4      Positive  "
      ]
     },
     "execution_count": 23,
     "metadata": {},
     "output_type": "execute_result"
    }
   ],
   "source": [
    "new.head()"
   ]
  },
  {
   "cell_type": "code",
   "execution_count": 37,
   "id": "10327e01-2177-4d45-878c-b737affbc8bb",
   "metadata": {},
   "outputs": [],
   "source": [
    "import pyarrow as pa\n",
    "import pyarrow.parquet as pq\n",
    "table = pa.Table.from_pandas(new)\n",
    "pq.write_table(table, './data_sentiment_topic.parquet')"
   ]
  },
  {
   "cell_type": "markdown",
   "id": "f77fc27f-7d36-4b29-8b3d-02854174a5c9",
   "metadata": {},
   "source": [
    "## Transformer trained on financial news"
   ]
  },
  {
   "cell_type": "code",
   "execution_count": 19,
   "id": "64b1af38-a422-488a-809c-e436caaa094e",
   "metadata": {},
   "outputs": [],
   "source": [
    "import pickle \n",
    "import pandas as pd\n",
    "from tqdm import tqdm"
   ]
  },
  {
   "cell_type": "code",
   "execution_count": 8,
   "id": "349352df-7910-43b5-8777-e38f4b432fda",
   "metadata": {},
   "outputs": [],
   "source": [
    "from transformers import AutoTokenizer, AutoModelForSequenceClassification\n",
    "import torch \n",
    "\n",
    "tokenizer = AutoTokenizer.from_pretrained(\"mrm8488/distilroberta-finetuned-financial-news-sentiment-analysis\")\n",
    "\n",
    "model = AutoModelForSequenceClassification.from_pretrained(\"mrm8488/distilroberta-finetuned-financial-news-sentiment-analysis\")"
   ]
  },
  {
   "cell_type": "code",
   "execution_count": 12,
   "id": "7e488ed2-fb37-44d2-a36e-78827de8d5e2",
   "metadata": {},
   "outputs": [
    {
     "name": "stdout",
     "output_type": "stream",
     "text": [
      "CPU times: user 1min 14s, sys: 3.29 s, total: 1min 17s\n",
      "Wall time: 1min 18s\n"
     ]
    }
   ],
   "source": [
    "%%time\n",
    "with open('data_res.pkl', 'rb') as f:\n",
    "    df = pickle.load(f)"
   ]
  },
  {
   "cell_type": "code",
   "execution_count": 13,
   "id": "559358b1-5ed2-4df6-abae-78bd39465f1b",
   "metadata": {},
   "outputs": [],
   "source": [
    "def get_sentiment(text):\n",
    "    \n",
    "    inputs = tokenizer(text, padding = True, truncation = True, return_tensors = 'pt')\n",
    "    logits = model(**inputs).logits\n",
    "    \n",
    "    predicted_class_id = logits.argmax().item()\n",
    "    label = model.config.id2label[predicted_class_id]\n",
    "\n",
    "    return label"
   ]
  },
  {
   "cell_type": "code",
   "execution_count": null,
   "id": "3c0238c0-2bd2-487f-b3d2-aeddbbb71471",
   "metadata": {},
   "outputs": [
    {
     "name": "stderr",
     "output_type": "stream",
     "text": [
      " 61%|██████    | 78054/127739 [3:14:46<42:22, 19.54it/s]   "
     ]
    }
   ],
   "source": [
    "%%time\n",
    "bert_sentiment = []\n",
    "for text in tqdm(df['main_text'].values):\n",
    "    bert_sentiment.append(get_sentiment(text))"
   ]
  },
  {
   "cell_type": "code",
   "execution_count": null,
   "id": "342dbe2c-ef2f-4b48-b05b-483f4fa17b10",
   "metadata": {},
   "outputs": [],
   "source": [
    "df['bert_sentiment'] = bert_sentiment"
   ]
  },
  {
   "cell_type": "code",
   "execution_count": null,
   "id": "8257c957-2acc-4135-a168-ee7f60758cd4",
   "metadata": {},
   "outputs": [],
   "source": [
    "%%time\n",
    "import pickle\n",
    "\n",
    "with open('data_full.pkl', 'wb') as f:\n",
    "    pickle.dump(df, f)"
   ]
  },
  {
   "cell_type": "markdown",
   "id": "bfda6dd9-8726-42f7-b567-645c649debeb",
   "metadata": {},
   "source": [
    "## result comparison"
   ]
  },
  {
   "cell_type": "code",
   "execution_count": 25,
   "id": "e4b005b3-a9b5-4718-8fb3-5ba0027c2b6f",
   "metadata": {},
   "outputs": [
    {
     "data": {
      "text/plain": [
       "Positive    101876\n",
       "Negative     18049\n",
       "Neutral       7814\n",
       "Name: textblob_sent, dtype: int64"
      ]
     },
     "execution_count": 25,
     "metadata": {},
     "output_type": "execute_result"
    }
   ],
   "source": [
    "new['textblob_sent'].value_counts()"
   ]
  },
  {
   "cell_type": "code",
   "execution_count": 27,
   "id": "4085e676-400b-4583-a213-9938c310c721",
   "metadata": {},
   "outputs": [
    {
     "data": {
      "text/plain": [
       "Positive    112679\n",
       "Negative      9677\n",
       "Neutral       5383\n",
       "Name: vader_sentiment, dtype: int64"
      ]
     },
     "execution_count": 27,
     "metadata": {},
     "output_type": "execute_result"
    }
   ],
   "source": [
    "new['vader_sentiment'].value_counts()"
   ]
  },
  {
   "cell_type": "code",
   "execution_count": 34,
   "id": "d8f45bcb-0ee7-4bea-9fa6-905c3c33ce26",
   "metadata": {},
   "outputs": [
    {
     "data": {
      "text/plain": [
       "Positive    112674\n",
       "Negative      9635\n",
       "Neutral       5430\n",
       "Name: vader_sentiment2, dtype: int64"
      ]
     },
     "execution_count": 34,
     "metadata": {},
     "output_type": "execute_result"
    }
   ],
   "source": [
    "new['vader_sentiment2'].value_counts()"
   ]
  },
  {
   "cell_type": "code",
   "execution_count": 35,
   "id": "2c25f699-2e28-4ad1-bcf7-a2be24615e66",
   "metadata": {},
   "outputs": [
    {
     "data": {
      "text/plain": [
       "0    86619\n",
       "1    41120\n",
       "Name: svm_sentiment, dtype: int64"
      ]
     },
     "execution_count": 35,
     "metadata": {},
     "output_type": "execute_result"
    }
   ],
   "source": [
    "new['svm_sentiment'].value_counts()"
   ]
  }
 ],
 "metadata": {
  "kernelspec": {
   "display_name": "TensorFlow 2 (Local)",
   "language": "python",
   "name": "local-tf2"
  },
  "language_info": {
   "codemirror_mode": {
    "name": "ipython",
    "version": 3
   },
   "file_extension": ".py",
   "mimetype": "text/x-python",
   "name": "python",
   "nbconvert_exporter": "python",
   "pygments_lexer": "ipython3",
   "version": "3.7.12"
  }
 },
 "nbformat": 4,
 "nbformat_minor": 5
}
