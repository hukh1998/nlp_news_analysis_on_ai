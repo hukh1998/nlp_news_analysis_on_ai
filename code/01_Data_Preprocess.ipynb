{
 "cells": [
  {
   "cell_type": "code",
   "execution_count": 2,
   "id": "33d719f5-dc2f-4f18-82ed-866b2866739d",
   "metadata": {},
   "outputs": [],
   "source": [
    "#!pip install nltk"
   ]
  },
  {
   "cell_type": "code",
   "execution_count": 3,
   "id": "7f2d89e3-4afb-4c59-a163-7d0e33432180",
   "metadata": {},
   "outputs": [],
   "source": [
    "import pandas as pd\n",
    "import pyarrow as pa\n",
    "import pyarrow.parquet as pq\n",
    "import re\n",
    "from tqdm import tqdm\n",
    "import matplotlib.pyplot as plt\n",
    "import os, requests, sys\n",
    "\n",
    "import nltk as nltk\n",
    "import nltk.corpus  \n",
    "from nltk.text import Text\n",
    "from nltk.corpus import stopwords\n",
    "from nltk.stem.wordnet import WordNetLemmatizer"
   ]
  },
  {
   "cell_type": "code",
   "execution_count": 26,
   "id": "1a935183-8c30-4687-945b-998646f803eb",
   "metadata": {},
   "outputs": [
    {
     "name": "stdout",
     "output_type": "stream",
     "text": [
      "CPU times: user 11.3 s, sys: 6.55 s, total: 17.9 s\n",
      "Wall time: 18.3 s\n"
     ]
    },
    {
     "data": {
      "text/plain": [
       "(200332, 5)"
      ]
     },
     "execution_count": 26,
     "metadata": {},
     "output_type": "execute_result"
    }
   ],
   "source": [
    "%%time\n",
    "\n",
    "df = pd.read_parquet('https://storage.googleapis.com/msca-bdp-data-open/news_final_project/news_final_project.parquet', engine='pyarrow')\n",
    "df.shape"
   ]
  },
  {
   "cell_type": "code",
   "execution_count": 27,
   "id": "a625d9fd-030b-4330-a22c-abcf371a4689",
   "metadata": {},
   "outputs": [
    {
     "data": {
      "text/html": [
       "<div>\n",
       "<style scoped>\n",
       "    .dataframe tbody tr th:only-of-type {\n",
       "        vertical-align: middle;\n",
       "    }\n",
       "\n",
       "    .dataframe tbody tr th {\n",
       "        vertical-align: top;\n",
       "    }\n",
       "\n",
       "    .dataframe thead th {\n",
       "        text-align: right;\n",
       "    }\n",
       "</style>\n",
       "<table border=\"1\" class=\"dataframe\">\n",
       "  <thead>\n",
       "    <tr style=\"text-align: right;\">\n",
       "      <th></th>\n",
       "      <th>url</th>\n",
       "      <th>date</th>\n",
       "      <th>language</th>\n",
       "      <th>title</th>\n",
       "      <th>text</th>\n",
       "    </tr>\n",
       "  </thead>\n",
       "  <tbody>\n",
       "    <tr>\n",
       "      <th>0</th>\n",
       "      <td>http://en.people.cn/n3/2021/0318/c90000-983012...</td>\n",
       "      <td>2021-03-18</td>\n",
       "      <td>en</td>\n",
       "      <td>Artificial intelligence improves parking effic...</td>\n",
       "      <td>\\n\\nArtificial intelligence improves parking e...</td>\n",
       "    </tr>\n",
       "    <tr>\n",
       "      <th>1</th>\n",
       "      <td>http://newsparliament.com/2020/02/27/children-...</td>\n",
       "      <td>2020-02-27</td>\n",
       "      <td>en</td>\n",
       "      <td>Children With Autism Saw Their Learning and So...</td>\n",
       "      <td>\\nChildren With Autism Saw Their Learning and ...</td>\n",
       "    </tr>\n",
       "    <tr>\n",
       "      <th>2</th>\n",
       "      <td>http://www.dataweek.co.za/12835r</td>\n",
       "      <td>2021-03-26</td>\n",
       "      <td>en</td>\n",
       "      <td>Forget ML, AI and Industry 4.0 – obsolescence ...</td>\n",
       "      <td>\\n\\nForget ML, AI and Industry 4.0 – obsolesce...</td>\n",
       "    </tr>\n",
       "    <tr>\n",
       "      <th>3</th>\n",
       "      <td>http://www.homeoffice.consumerelectronicsnet.c...</td>\n",
       "      <td>2021-03-10</td>\n",
       "      <td>en</td>\n",
       "      <td>Strategy Analytics: 71% of Smartphones Sold Gl...</td>\n",
       "      <td>\\n\\nStrategy Analytics: 71% of Smartphones Sol...</td>\n",
       "    </tr>\n",
       "    <tr>\n",
       "      <th>4</th>\n",
       "      <td>http://www.itbusinessnet.com/2020/10/olympus-t...</td>\n",
       "      <td>2020-10-20</td>\n",
       "      <td>en</td>\n",
       "      <td>Olympus to Support Endoscopic AI Diagnosis Edu...</td>\n",
       "      <td>\\n\\nOlympus to Support Endoscopic AI Diagnosis...</td>\n",
       "    </tr>\n",
       "  </tbody>\n",
       "</table>\n",
       "</div>"
      ],
      "text/plain": [
       "                                                 url        date language  \\\n",
       "0  http://en.people.cn/n3/2021/0318/c90000-983012...  2021-03-18       en   \n",
       "1  http://newsparliament.com/2020/02/27/children-...  2020-02-27       en   \n",
       "2                   http://www.dataweek.co.za/12835r  2021-03-26       en   \n",
       "3  http://www.homeoffice.consumerelectronicsnet.c...  2021-03-10       en   \n",
       "4  http://www.itbusinessnet.com/2020/10/olympus-t...  2020-10-20       en   \n",
       "\n",
       "                                               title  \\\n",
       "0  Artificial intelligence improves parking effic...   \n",
       "1  Children With Autism Saw Their Learning and So...   \n",
       "2  Forget ML, AI and Industry 4.0 – obsolescence ...   \n",
       "3  Strategy Analytics: 71% of Smartphones Sold Gl...   \n",
       "4  Olympus to Support Endoscopic AI Diagnosis Edu...   \n",
       "\n",
       "                                                text  \n",
       "0  \\n\\nArtificial intelligence improves parking e...  \n",
       "1  \\nChildren With Autism Saw Their Learning and ...  \n",
       "2  \\n\\nForget ML, AI and Industry 4.0 – obsolesce...  \n",
       "3  \\n\\nStrategy Analytics: 71% of Smartphones Sol...  \n",
       "4  \\n\\nOlympus to Support Endoscopic AI Diagnosis...  "
      ]
     },
     "execution_count": 27,
     "metadata": {},
     "output_type": "execute_result"
    }
   ],
   "source": [
    "df.head()"
   ]
  },
  {
   "cell_type": "code",
   "execution_count": 28,
   "id": "4973a9f3-7f5c-4db4-a135-98a41d1e9c6d",
   "metadata": {},
   "outputs": [
    {
     "data": {
      "text/plain": [
       "en    200332\n",
       "Name: language, dtype: int64"
      ]
     },
     "execution_count": 28,
     "metadata": {},
     "output_type": "execute_result"
    }
   ],
   "source": [
    "df['language'].value_counts()"
   ]
  },
  {
   "cell_type": "code",
   "execution_count": 29,
   "id": "a2ef388b-bce8-43b2-a486-67d5a619b2c8",
   "metadata": {},
   "outputs": [],
   "source": [
    "df.drop(columns = ['language'], inplace = True)"
   ]
  },
  {
   "cell_type": "markdown",
   "id": "2e6e1c5b-9f5d-4a1b-96b0-5a179527816b",
   "metadata": {},
   "source": [
    "### Check duplicate rows"
   ]
  },
  {
   "cell_type": "code",
   "execution_count": 31,
   "id": "70f31680-a9f9-4194-8849-ae78fb89d7bb",
   "metadata": {},
   "outputs": [
    {
     "data": {
      "text/html": [
       "<div>\n",
       "<style scoped>\n",
       "    .dataframe tbody tr th:only-of-type {\n",
       "        vertical-align: middle;\n",
       "    }\n",
       "\n",
       "    .dataframe tbody tr th {\n",
       "        vertical-align: top;\n",
       "    }\n",
       "\n",
       "    .dataframe thead th {\n",
       "        text-align: right;\n",
       "    }\n",
       "</style>\n",
       "<table border=\"1\" class=\"dataframe\">\n",
       "  <thead>\n",
       "    <tr style=\"text-align: right;\">\n",
       "      <th></th>\n",
       "      <th>url</th>\n",
       "      <th>date</th>\n",
       "      <th>title</th>\n",
       "      <th>text</th>\n",
       "    </tr>\n",
       "  </thead>\n",
       "  <tbody>\n",
       "    <tr>\n",
       "      <th>5528</th>\n",
       "      <td>https://www.firstmonday.org/ojs/index.php/fm/a...</td>\n",
       "      <td>2021-01-20</td>\n",
       "      <td>\\t\\tChief information officers’ perceptions a...</td>\n",
       "      <td>\\n\\n\\t\\tChief information officers’ perception...</td>\n",
       "    </tr>\n",
       "    <tr>\n",
       "      <th>21392</th>\n",
       "      <td>https://firstmonday.org/ojs/index.php/fm/artic...</td>\n",
       "      <td>2021-01-16</td>\n",
       "      <td>\\t\\tChief information officers’ perceptions a...</td>\n",
       "      <td>\\n\\n\\t\\tChief information officers’ perception...</td>\n",
       "    </tr>\n",
       "    <tr>\n",
       "      <th>148412</th>\n",
       "      <td>https://www.washingtonian.com/2020/03/27/jason...</td>\n",
       "      <td>2020-03-28</td>\n",
       "      <td>Jason Reynolds Is the Bard of Black Y...</td>\n",
       "      <td>\\n        Jason Reynolds Is the Bard of Black ...</td>\n",
       "    </tr>\n",
       "    <tr>\n",
       "      <th>169488</th>\n",
       "      <td>https://www.washingtonian.com/2020/03/27/jason...</td>\n",
       "      <td>2020-03-27</td>\n",
       "      <td>Jason Reynolds Is the Bard of Black Y...</td>\n",
       "      <td>\\n        Jason Reynolds Is the Bard of Black ...</td>\n",
       "    </tr>\n",
       "    <tr>\n",
       "      <th>163013</th>\n",
       "      <td>https://www.archdaily.com/936533/6-visions-of-...</td>\n",
       "      <td>2020-03-30</td>\n",
       "      <td>6 Visions of How Artificial Intelligence will...</td>\n",
       "      <td>\\n\\n6 Visions of How Artificial Intelligence w...</td>\n",
       "    </tr>\n",
       "    <tr>\n",
       "      <th>...</th>\n",
       "      <td>...</td>\n",
       "      <td>...</td>\n",
       "      <td>...</td>\n",
       "      <td>...</td>\n",
       "    </tr>\n",
       "    <tr>\n",
       "      <th>112876</th>\n",
       "      <td>https://www.nme.com/news/gaming-news/escape-fr...</td>\n",
       "      <td>2022-05-11</td>\n",
       "      <td>‘Escape From Tarkov’ patch updates AI behaviou...</td>\n",
       "      <td>\\n\\n‘Escape From Tarkov’ patch updates AI beha...</td>\n",
       "    </tr>\n",
       "    <tr>\n",
       "      <th>155434</th>\n",
       "      <td>https://www.thedailybeast.com/the-andy-warhol-...</td>\n",
       "      <td>2022-02-23</td>\n",
       "      <td>‘The Andy Warhol Diaries’ Trailer: Ryan Murphy...</td>\n",
       "      <td>\\n‘The Andy Warhol Diaries’ Trailer: Ryan Murp...</td>\n",
       "    </tr>\n",
       "    <tr>\n",
       "      <th>111969</th>\n",
       "      <td>https://www.thedailybeast.com/the-andy-warhol-...</td>\n",
       "      <td>2022-02-23</td>\n",
       "      <td>‘The Andy Warhol Diaries’ Trailer: Ryan Murphy...</td>\n",
       "      <td>\\n‘The Andy Warhol Diaries’ Trailer: Ryan Murp...</td>\n",
       "    </tr>\n",
       "    <tr>\n",
       "      <th>14425</th>\n",
       "      <td>https://www.afaqs.com/people-spotting/advertis...</td>\n",
       "      <td>2021-05-14</td>\n",
       "      <td>“49 per cent of the surveyed pool have a relia...</td>\n",
       "      <td>\\n\\n“49 per cent of the surveyed pool have a r...</td>\n",
       "    </tr>\n",
       "    <tr>\n",
       "      <th>87824</th>\n",
       "      <td>https://www.afaqs.com/news/advertising/49-per-...</td>\n",
       "      <td>2021-05-14</td>\n",
       "      <td>“49 per cent of the surveyed pool have a relia...</td>\n",
       "      <td>\\n\\n“49 per cent of the surveyed pool have a r...</td>\n",
       "    </tr>\n",
       "  </tbody>\n",
       "</table>\n",
       "<p>3373 rows × 4 columns</p>\n",
       "</div>"
      ],
      "text/plain": [
       "                                                      url        date  \\\n",
       "5528    https://www.firstmonday.org/ojs/index.php/fm/a...  2021-01-20   \n",
       "21392   https://firstmonday.org/ojs/index.php/fm/artic...  2021-01-16   \n",
       "148412  https://www.washingtonian.com/2020/03/27/jason...  2020-03-28   \n",
       "169488  https://www.washingtonian.com/2020/03/27/jason...  2020-03-27   \n",
       "163013  https://www.archdaily.com/936533/6-visions-of-...  2020-03-30   \n",
       "...                                                   ...         ...   \n",
       "112876  https://www.nme.com/news/gaming-news/escape-fr...  2022-05-11   \n",
       "155434  https://www.thedailybeast.com/the-andy-warhol-...  2022-02-23   \n",
       "111969  https://www.thedailybeast.com/the-andy-warhol-...  2022-02-23   \n",
       "14425   https://www.afaqs.com/people-spotting/advertis...  2021-05-14   \n",
       "87824   https://www.afaqs.com/news/advertising/49-per-...  2021-05-14   \n",
       "\n",
       "                                                    title  \\\n",
       "5528     \\t\\tChief information officers’ perceptions a...   \n",
       "21392    \\t\\tChief information officers’ perceptions a...   \n",
       "148412           Jason Reynolds Is the Bard of Black Y...   \n",
       "169488           Jason Reynolds Is the Bard of Black Y...   \n",
       "163013   6 Visions of How Artificial Intelligence will...   \n",
       "...                                                   ...   \n",
       "112876  ‘Escape From Tarkov’ patch updates AI behaviou...   \n",
       "155434  ‘The Andy Warhol Diaries’ Trailer: Ryan Murphy...   \n",
       "111969  ‘The Andy Warhol Diaries’ Trailer: Ryan Murphy...   \n",
       "14425   “49 per cent of the surveyed pool have a relia...   \n",
       "87824   “49 per cent of the surveyed pool have a relia...   \n",
       "\n",
       "                                                     text  \n",
       "5528    \\n\\n\\t\\tChief information officers’ perception...  \n",
       "21392   \\n\\n\\t\\tChief information officers’ perception...  \n",
       "148412  \\n        Jason Reynolds Is the Bard of Black ...  \n",
       "169488  \\n        Jason Reynolds Is the Bard of Black ...  \n",
       "163013  \\n\\n6 Visions of How Artificial Intelligence w...  \n",
       "...                                                   ...  \n",
       "112876  \\n\\n‘Escape From Tarkov’ patch updates AI beha...  \n",
       "155434  \\n‘The Andy Warhol Diaries’ Trailer: Ryan Murp...  \n",
       "111969  \\n‘The Andy Warhol Diaries’ Trailer: Ryan Murp...  \n",
       "14425   \\n\\n“49 per cent of the surveyed pool have a r...  \n",
       "87824   \\n\\n“49 per cent of the surveyed pool have a r...  \n",
       "\n",
       "[3373 rows x 4 columns]"
      ]
     },
     "execution_count": 31,
     "metadata": {},
     "output_type": "execute_result"
    }
   ],
   "source": [
    "df[df.duplicated(subset = ['title', 'text'], keep = False)].sort_values(by = 'title')"
   ]
  },
  {
   "cell_type": "code",
   "execution_count": 32,
   "id": "e371dc0b-9b53-49b1-ad9e-805e6a2546b9",
   "metadata": {},
   "outputs": [],
   "source": [
    "df.drop_duplicates(subset = ['title', 'text'], inplace = True)"
   ]
  },
  {
   "cell_type": "code",
   "execution_count": 33,
   "id": "93fa3dd7-e7ff-49a0-b759-c701f5599df1",
   "metadata": {},
   "outputs": [
    {
     "data": {
      "text/plain": [
       "(198564, 4)"
      ]
     },
     "execution_count": 33,
     "metadata": {},
     "output_type": "execute_result"
    }
   ],
   "source": [
    "df.shape"
   ]
  },
  {
   "cell_type": "markdown",
   "id": "f758ff82-6915-417a-a122-3a8774e5b368",
   "metadata": {
    "jp-MarkdownHeadingCollapsed": true,
    "tags": []
   },
   "source": [
    "### Extract the main text body"
   ]
  },
  {
   "cell_type": "code",
   "execution_count": 44,
   "id": "732b16aa-2849-4360-b28b-8af9bce023f0",
   "metadata": {},
   "outputs": [],
   "source": [
    "def text_body(text):\n",
    "    \n",
    "    # split the paragraphs into lists of sentences \n",
    "    paragraphs = text.split('\\n')\n",
    "    \n",
    "    # discard sentences after these key words, paragraphs ahead of these words can be viewed as the main text body\n",
    "    exclude = ['Articles:', 'You May Also Like', 'Related Stories', 'Related Articles', \n",
    "               'Contact Us:', 'Exclusive:', 'More Stories', 'About Us:', 'PRESS RELEASE:',\n",
    "               'Top 10 News', 'More Articles', 'Terms of Use', 'Privacy Policy']\n",
    "    idx = 999999999\n",
    "\n",
    "    for term in exclude:\n",
    "\n",
    "        for index, sentence in enumerate(paragraphs):\n",
    "            if term in sentence and index < idx:\n",
    "                idx = index\n",
    "    \n",
    "    try:\n",
    "        paragraphs = paragraphs[:idx]\n",
    "    except:\n",
    "        pass \n",
    "    \n",
    "    # discard sentences that have less than 15 words\n",
    "    sent = [sentence for sentence in paragraphs if len(sentence.strip().split(' ')) > 15]\n",
    "    \n",
    "    res = '\\n'.join(sent)\n",
    "    \n",
    "    # remove \\n and \\t\n",
    "    res = res.replace('\\n', ' ').replace('\\t', '')\n",
    "    \n",
    "    ### eliminate urls\n",
    "    url_pattern1 = 'https://[\\w\\./]+' #starts with https:\n",
    "    url_pattern2 = 'www.[\\w\\./]+' #starts with www.\n",
    "    res = re.sub(url_pattern1, '', res)\n",
    "    res = re.sub(url_pattern2, '', res)\n",
    "    \n",
    "    ### remove all right reserved\n",
    "    res = re.sub('All Right Reserved', '', res)\n",
    "    \n",
    "    return res"
   ]
  },
  {
   "cell_type": "code",
   "execution_count": 45,
   "id": "55e7f103-f3e4-4876-af7a-776899ad0f17",
   "metadata": {},
   "outputs": [
    {
     "name": "stdout",
     "output_type": "stream",
     "text": [
      "CPU times: user 1min 38s, sys: 1.01 s, total: 1min 39s\n",
      "Wall time: 1min 39s\n"
     ]
    }
   ],
   "source": [
    "%%time\n",
    "df['main_text'] = df['text'].apply(text_body)"
   ]
  },
  {
   "cell_type": "markdown",
   "id": "1cbf5665-9272-411a-913a-317e2fcd0767",
   "metadata": {
    "jp-MarkdownHeadingCollapsed": true,
    "tags": []
   },
   "source": [
    "### Discard irrelevant news articles"
   ]
  },
  {
   "cell_type": "code",
   "execution_count": 46,
   "id": "6d726d90-a18a-4537-994b-3221798251c3",
   "metadata": {},
   "outputs": [],
   "source": [
    "def relevant(text):\n",
    "    \n",
    "    relevant = 0\n",
    "    \n",
    "    topics = ['Data Science', ' DS ', 'Machine Learning', 'Artificial Intelligence', ' AI ', 'data science', 'machine learning']\n",
    "    \n",
    "    for topic in topics:\n",
    "        \n",
    "        if topic in text: relevant = 1\n",
    "        \n",
    "    return relevant"
   ]
  },
  {
   "cell_type": "code",
   "execution_count": 47,
   "id": "799448c5-5692-467f-b91d-9c7bfb818d06",
   "metadata": {},
   "outputs": [],
   "source": [
    "df['relevant'] = df['main_text'].apply(relevant)"
   ]
  },
  {
   "cell_type": "code",
   "execution_count": 48,
   "id": "94c8381a-cfd1-4b1c-ae0b-b66a8338ef3e",
   "metadata": {},
   "outputs": [
    {
     "data": {
      "text/plain": [
       "(127739, 6)"
      ]
     },
     "execution_count": 48,
     "metadata": {},
     "output_type": "execute_result"
    }
   ],
   "source": [
    "filtered = df[df['relevant'] == 1].copy().reset_index(drop = True)\n",
    "filtered.shape"
   ]
  },
  {
   "cell_type": "markdown",
   "id": "6a9187d6-f2d0-42a8-95a4-2c1160356327",
   "metadata": {
    "tags": []
   },
   "source": [
    "### Tokenize the text and clean the tokens"
   ]
  },
  {
   "cell_type": "code",
   "execution_count": 49,
   "id": "10b9d3de-dc63-406d-9f36-f1a1ed807f83",
   "metadata": {},
   "outputs": [],
   "source": [
    "stopwords = set(nltk.corpus.stopwords.words('english'))\n",
    "lemma = WordNetLemmatizer()"
   ]
  },
  {
   "cell_type": "code",
   "execution_count": 50,
   "id": "c6c93293-d91a-4710-a526-a4525d3fb95a",
   "metadata": {},
   "outputs": [
    {
     "name": "stdout",
     "output_type": "stream",
     "text": [
      "CPU times: user 10min 53s, sys: 5.57 s, total: 10min 59s\n",
      "Wall time: 10min 59s\n"
     ]
    }
   ],
   "source": [
    "%%time\n",
    "filtered['Tokens'] = filtered['main_text'].apply(lambda x: nltk.tokenize.word_tokenize(x))"
   ]
  },
  {
   "cell_type": "code",
   "execution_count": 51,
   "id": "24798afe-36b6-4694-85c6-1a82483a71ca",
   "metadata": {},
   "outputs": [],
   "source": [
    "def clean_tokens(token_ls):\n",
    "    \n",
    "    # Remove single-character tokens (mostly punctuation)\n",
    "    clean_tokens = [word for word in token_ls if len(word) > 1]\n",
    "\n",
    "    # Remove numbers\n",
    "    clean_tokens = [word for word in clean_tokens if not word.isnumeric()]\n",
    "\n",
    "    # Remove punctuation\n",
    "    clean_tokens = [word for word in clean_tokens if word.isalpha()]\n",
    "\n",
    "    # Remove stopwords\n",
    "    clean_tokens = [word for word in clean_tokens if word not in stopwords]\n",
    "    \n",
    "    clean_tokens = [lemma.lemmatize(word) for word in clean_tokens]\n",
    "    \n",
    "    return clean_tokens"
   ]
  },
  {
   "cell_type": "code",
   "execution_count": 52,
   "id": "ee603f99-4cc9-424e-a026-f89ed759e205",
   "metadata": {},
   "outputs": [
    {
     "name": "stdout",
     "output_type": "stream",
     "text": [
      "CPU times: user 5min 15s, sys: 769 ms, total: 5min 15s\n",
      "Wall time: 5min 16s\n"
     ]
    }
   ],
   "source": [
    "%%time\n",
    "filtered['cleaned_tokens'] = filtered['Tokens'].apply(clean_tokens)"
   ]
  },
  {
   "cell_type": "code",
   "execution_count": 53,
   "id": "2e9f8e91-4f1d-41a2-862a-41d33c722d80",
   "metadata": {},
   "outputs": [],
   "source": [
    "table = pa.Table.from_pandas(filtered)\n",
    "pq.write_table(table, './filtered_data.parquet')"
   ]
  },
  {
   "cell_type": "code",
   "execution_count": null,
   "id": "0e3607a7-7231-47b6-aebe-9ae983522005",
   "metadata": {},
   "outputs": [],
   "source": []
  }
 ],
 "metadata": {
  "kernelspec": {
   "display_name": "Python (Local)",
   "language": "python",
   "name": "local-base"
  },
  "language_info": {
   "codemirror_mode": {
    "name": "ipython",
    "version": 3
   },
   "file_extension": ".py",
   "mimetype": "text/x-python",
   "name": "python",
   "nbconvert_exporter": "python",
   "pygments_lexer": "ipython3",
   "version": "3.7.12"
  }
 },
 "nbformat": 4,
 "nbformat_minor": 5
}
